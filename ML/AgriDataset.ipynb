{
  "cells": [
    {
      "cell_type": "code",
      "execution_count": 1,
      "metadata": {
        "id": "pkxE1V28L7eR"
      },
      "outputs": [
        {
          "ename": "ModuleNotFoundError",
          "evalue": "No module named 'pandas'",
          "output_type": "error",
          "traceback": [
            "\u001b[0;31m---------------------------------------------------------------------------\u001b[0m",
            "\u001b[0;31mModuleNotFoundError\u001b[0m                       Traceback (most recent call last)",
            "Cell \u001b[0;32mIn[1], line 1\u001b[0m\n\u001b[0;32m----> 1\u001b[0m \u001b[39mimport\u001b[39;00m \u001b[39mpandas\u001b[39;00m \u001b[39mas\u001b[39;00m \u001b[39mpd\u001b[39;00m\n\u001b[1;32m      2\u001b[0m \u001b[39mimport\u001b[39;00m \u001b[39mnumpy\u001b[39;00m \u001b[39mas\u001b[39;00m \u001b[39mnp\u001b[39;00m\n\u001b[1;32m      3\u001b[0m \u001b[39mimport\u001b[39;00m \u001b[39mseaborn\u001b[39;00m \u001b[39mas\u001b[39;00m \u001b[39msns\u001b[39;00m\n",
            "\u001b[0;31mModuleNotFoundError\u001b[0m: No module named 'pandas'"
          ]
        }
      ],
      "source": [
        "import pandas as pd\n",
        "import numpy as np\n",
        "import seaborn as sns\n",
        "import matplotlib.pyplot as plt\n",
        "\n"
      ]
    },
    {
      "cell_type": "code",
      "execution_count": null,
      "metadata": {
        "id": "XpUumzaVMHzE"
      },
      "outputs": [],
      "source": [
        "df = pd.read_csv(\"/content/datasetagri(updated3) (1).csv\")"
      ]
    },
    {
      "cell_type": "code",
      "execution_count": null,
      "metadata": {
        "colab": {
          "base_uri": "https://localhost:8080/",
          "height": 268
        },
        "id": "JV31lfcnM6X9",
        "outputId": "62d22a24-a5cb-4bad-b333-a77357e5446c"
      },
      "outputs": [
        {
          "data": {
            "text/html": [
              "\n",
              "  <div id=\"df-91cb49e7-ef2f-4d6e-9598-9d3035a5ff21\">\n",
              "    <div class=\"colab-df-container\">\n",
              "      <div>\n",
              "<style scoped>\n",
              "    .dataframe tbody tr th:only-of-type {\n",
              "        vertical-align: middle;\n",
              "    }\n",
              "\n",
              "    .dataframe tbody tr th {\n",
              "        vertical-align: top;\n",
              "    }\n",
              "\n",
              "    .dataframe thead th {\n",
              "        text-align: right;\n",
              "    }\n",
              "</style>\n",
              "<table border=\"1\" class=\"dataframe\">\n",
              "  <thead>\n",
              "    <tr style=\"text-align: right;\">\n",
              "      <th></th>\n",
              "      <th>pH (1:2.5)</th>\n",
              "      <th>EC dS/m (1:2.5)</th>\n",
              "      <th>OC%</th>\n",
              "      <th>P2O5 (kg/ha)</th>\n",
              "      <th>K2O (kg/ha)</th>\n",
              "      <th>S (ppm)</th>\n",
              "      <th>B (ppm)</th>\n",
              "      <th>Fe (ppm)</th>\n",
              "      <th>Mn (ppm)</th>\n",
              "      <th>Zn (ppm)</th>\n",
              "      <th>Cu (ppm)</th>\n",
              "      <th>Unnamed: 11</th>\n",
              "    </tr>\n",
              "  </thead>\n",
              "  <tbody>\n",
              "    <tr>\n",
              "      <th>0</th>\n",
              "      <td>NaN</td>\n",
              "      <td>NaN</td>\n",
              "      <td>NaN</td>\n",
              "      <td>NaN</td>\n",
              "      <td>NaN</td>\n",
              "      <td>NaN</td>\n",
              "      <td>NaN</td>\n",
              "      <td>NaN</td>\n",
              "      <td>NaN</td>\n",
              "      <td>NaN</td>\n",
              "      <td>NaN</td>\n",
              "      <td>rating</td>\n",
              "    </tr>\n",
              "    <tr>\n",
              "      <th>1</th>\n",
              "      <td>6.16</td>\n",
              "      <td>0.14</td>\n",
              "      <td>1.68</td>\n",
              "      <td>29.59</td>\n",
              "      <td>536.25</td>\n",
              "      <td>6.550</td>\n",
              "      <td>0.113</td>\n",
              "      <td>18.77</td>\n",
              "      <td>61.70</td>\n",
              "      <td>2.33</td>\n",
              "      <td>6.46</td>\n",
              "      <td>Very High</td>\n",
              "    </tr>\n",
              "    <tr>\n",
              "      <th>2</th>\n",
              "      <td>7.28</td>\n",
              "      <td>0.07</td>\n",
              "      <td>0.83</td>\n",
              "      <td>55.31</td>\n",
              "      <td>156.80</td>\n",
              "      <td>5.147</td>\n",
              "      <td>ND</td>\n",
              "      <td>13.49</td>\n",
              "      <td>21.60</td>\n",
              "      <td>1.15</td>\n",
              "      <td>3.14</td>\n",
              "      <td>Medium</td>\n",
              "    </tr>\n",
              "    <tr>\n",
              "      <th>3</th>\n",
              "      <td>6.20</td>\n",
              "      <td>1.13</td>\n",
              "      <td>0.55</td>\n",
              "      <td>36.74</td>\n",
              "      <td>100.28</td>\n",
              "      <td>9.357</td>\n",
              "      <td>ND</td>\n",
              "      <td>15.28</td>\n",
              "      <td>38.06</td>\n",
              "      <td>0.99</td>\n",
              "      <td>5.82</td>\n",
              "      <td>Low</td>\n",
              "    </tr>\n",
              "    <tr>\n",
              "      <th>4</th>\n",
              "      <td>6.85</td>\n",
              "      <td>0.15</td>\n",
              "      <td>1.01</td>\n",
              "      <td>85.34</td>\n",
              "      <td>332.43</td>\n",
              "      <td>5.147</td>\n",
              "      <td>ND</td>\n",
              "      <td>19.25</td>\n",
              "      <td>43.78</td>\n",
              "      <td>1.43</td>\n",
              "      <td>4.16</td>\n",
              "      <td>Very High</td>\n",
              "    </tr>\n",
              "  </tbody>\n",
              "</table>\n",
              "</div>\n",
              "      <button class=\"colab-df-convert\" onclick=\"convertToInteractive('df-91cb49e7-ef2f-4d6e-9598-9d3035a5ff21')\"\n",
              "              title=\"Convert this dataframe to an interactive table.\"\n",
              "              style=\"display:none;\">\n",
              "        \n",
              "  <svg xmlns=\"http://www.w3.org/2000/svg\" height=\"24px\"viewBox=\"0 0 24 24\"\n",
              "       width=\"24px\">\n",
              "    <path d=\"M0 0h24v24H0V0z\" fill=\"none\"/>\n",
              "    <path d=\"M18.56 5.44l.94 2.06.94-2.06 2.06-.94-2.06-.94-.94-2.06-.94 2.06-2.06.94zm-11 1L8.5 8.5l.94-2.06 2.06-.94-2.06-.94L8.5 2.5l-.94 2.06-2.06.94zm10 10l.94 2.06.94-2.06 2.06-.94-2.06-.94-.94-2.06-.94 2.06-2.06.94z\"/><path d=\"M17.41 7.96l-1.37-1.37c-.4-.4-.92-.59-1.43-.59-.52 0-1.04.2-1.43.59L10.3 9.45l-7.72 7.72c-.78.78-.78 2.05 0 2.83L4 21.41c.39.39.9.59 1.41.59.51 0 1.02-.2 1.41-.59l7.78-7.78 2.81-2.81c.8-.78.8-2.07 0-2.86zM5.41 20L4 18.59l7.72-7.72 1.47 1.35L5.41 20z\"/>\n",
              "  </svg>\n",
              "      </button>\n",
              "      \n",
              "  <style>\n",
              "    .colab-df-container {\n",
              "      display:flex;\n",
              "      flex-wrap:wrap;\n",
              "      gap: 12px;\n",
              "    }\n",
              "\n",
              "    .colab-df-convert {\n",
              "      background-color: #E8F0FE;\n",
              "      border: none;\n",
              "      border-radius: 50%;\n",
              "      cursor: pointer;\n",
              "      display: none;\n",
              "      fill: #1967D2;\n",
              "      height: 32px;\n",
              "      padding: 0 0 0 0;\n",
              "      width: 32px;\n",
              "    }\n",
              "\n",
              "    .colab-df-convert:hover {\n",
              "      background-color: #E2EBFA;\n",
              "      box-shadow: 0px 1px 2px rgba(60, 64, 67, 0.3), 0px 1px 3px 1px rgba(60, 64, 67, 0.15);\n",
              "      fill: #174EA6;\n",
              "    }\n",
              "\n",
              "    [theme=dark] .colab-df-convert {\n",
              "      background-color: #3B4455;\n",
              "      fill: #D2E3FC;\n",
              "    }\n",
              "\n",
              "    [theme=dark] .colab-df-convert:hover {\n",
              "      background-color: #434B5C;\n",
              "      box-shadow: 0px 1px 3px 1px rgba(0, 0, 0, 0.15);\n",
              "      filter: drop-shadow(0px 1px 2px rgba(0, 0, 0, 0.3));\n",
              "      fill: #FFFFFF;\n",
              "    }\n",
              "  </style>\n",
              "\n",
              "      <script>\n",
              "        const buttonEl =\n",
              "          document.querySelector('#df-91cb49e7-ef2f-4d6e-9598-9d3035a5ff21 button.colab-df-convert');\n",
              "        buttonEl.style.display =\n",
              "          google.colab.kernel.accessAllowed ? 'block' : 'none';\n",
              "\n",
              "        async function convertToInteractive(key) {\n",
              "          const element = document.querySelector('#df-91cb49e7-ef2f-4d6e-9598-9d3035a5ff21');\n",
              "          const dataTable =\n",
              "            await google.colab.kernel.invokeFunction('convertToInteractive',\n",
              "                                                     [key], {});\n",
              "          if (!dataTable) return;\n",
              "\n",
              "          const docLinkHtml = 'Like what you see? Visit the ' +\n",
              "            '<a target=\"_blank\" href=https://colab.research.google.com/notebooks/data_table.ipynb>data table notebook</a>'\n",
              "            + ' to learn more about interactive tables.';\n",
              "          element.innerHTML = '';\n",
              "          dataTable['output_type'] = 'display_data';\n",
              "          await google.colab.output.renderOutput(dataTable, element);\n",
              "          const docLink = document.createElement('div');\n",
              "          docLink.innerHTML = docLinkHtml;\n",
              "          element.appendChild(docLink);\n",
              "        }\n",
              "      </script>\n",
              "    </div>\n",
              "  </div>\n",
              "  "
            ],
            "text/plain": [
              "  pH (1:2.5) EC dS/m (1:2.5)   OC% P2O5 (kg/ha) K2O (kg/ha) S (ppm) B (ppm)  \\\n",
              "0        NaN             NaN   NaN          NaN         NaN     NaN     NaN   \n",
              "1       6.16            0.14  1.68        29.59      536.25   6.550   0.113   \n",
              "2       7.28            0.07  0.83        55.31      156.80   5.147      ND   \n",
              "3       6.20            1.13  0.55        36.74      100.28   9.357      ND   \n",
              "4       6.85            0.15  1.01        85.34      332.43   5.147      ND   \n",
              "\n",
              "  Fe (ppm) Mn (ppm) Zn (ppm) Cu (ppm) Unnamed: 11  \n",
              "0      NaN      NaN      NaN      NaN      rating  \n",
              "1    18.77    61.70     2.33     6.46   Very High  \n",
              "2    13.49    21.60     1.15     3.14      Medium  \n",
              "3    15.28    38.06     0.99     5.82         Low  \n",
              "4    19.25    43.78     1.43     4.16   Very High  "
            ]
          },
          "execution_count": 19,
          "metadata": {},
          "output_type": "execute_result"
        }
      ],
      "source": [
        "df.head(5)"
      ]
    },
    {
      "cell_type": "code",
      "execution_count": null,
      "metadata": {
        "id": "6_s83-VGRSAf"
      },
      "outputs": [],
      "source": [
        "df = df.iloc[1:,:]"
      ]
    },
    {
      "cell_type": "code",
      "execution_count": null,
      "metadata": {
        "colab": {
          "base_uri": "https://localhost:8080/",
          "height": 268
        },
        "id": "IIqfxHPTRXd4",
        "outputId": "404fa4a2-3fcf-4b7b-99f7-ef5e1d7d90f4"
      },
      "outputs": [
        {
          "data": {
            "text/html": [
              "\n",
              "  <div id=\"df-763875af-312e-4e9d-9fa6-93b2412df7c8\">\n",
              "    <div class=\"colab-df-container\">\n",
              "      <div>\n",
              "<style scoped>\n",
              "    .dataframe tbody tr th:only-of-type {\n",
              "        vertical-align: middle;\n",
              "    }\n",
              "\n",
              "    .dataframe tbody tr th {\n",
              "        vertical-align: top;\n",
              "    }\n",
              "\n",
              "    .dataframe thead th {\n",
              "        text-align: right;\n",
              "    }\n",
              "</style>\n",
              "<table border=\"1\" class=\"dataframe\">\n",
              "  <thead>\n",
              "    <tr style=\"text-align: right;\">\n",
              "      <th></th>\n",
              "      <th>pH (1:2.5)</th>\n",
              "      <th>EC dS/m (1:2.5)</th>\n",
              "      <th>OC%</th>\n",
              "      <th>P2O5 (kg/ha)</th>\n",
              "      <th>K2O (kg/ha)</th>\n",
              "      <th>S (ppm)</th>\n",
              "      <th>B (ppm)</th>\n",
              "      <th>Fe (ppm)</th>\n",
              "      <th>Mn (ppm)</th>\n",
              "      <th>Zn (ppm)</th>\n",
              "      <th>Cu (ppm)</th>\n",
              "      <th>Unnamed: 11</th>\n",
              "    </tr>\n",
              "  </thead>\n",
              "  <tbody>\n",
              "    <tr>\n",
              "      <th>1</th>\n",
              "      <td>6.16</td>\n",
              "      <td>0.14</td>\n",
              "      <td>1.68</td>\n",
              "      <td>29.59</td>\n",
              "      <td>536.25</td>\n",
              "      <td>6.550</td>\n",
              "      <td>0.113</td>\n",
              "      <td>18.77</td>\n",
              "      <td>61.70</td>\n",
              "      <td>2.33</td>\n",
              "      <td>6.46</td>\n",
              "      <td>Very High</td>\n",
              "    </tr>\n",
              "    <tr>\n",
              "      <th>2</th>\n",
              "      <td>7.28</td>\n",
              "      <td>0.07</td>\n",
              "      <td>0.83</td>\n",
              "      <td>55.31</td>\n",
              "      <td>156.80</td>\n",
              "      <td>5.147</td>\n",
              "      <td>ND</td>\n",
              "      <td>13.49</td>\n",
              "      <td>21.60</td>\n",
              "      <td>1.15</td>\n",
              "      <td>3.14</td>\n",
              "      <td>Medium</td>\n",
              "    </tr>\n",
              "    <tr>\n",
              "      <th>3</th>\n",
              "      <td>6.20</td>\n",
              "      <td>1.13</td>\n",
              "      <td>0.55</td>\n",
              "      <td>36.74</td>\n",
              "      <td>100.28</td>\n",
              "      <td>9.357</td>\n",
              "      <td>ND</td>\n",
              "      <td>15.28</td>\n",
              "      <td>38.06</td>\n",
              "      <td>0.99</td>\n",
              "      <td>5.82</td>\n",
              "      <td>Low</td>\n",
              "    </tr>\n",
              "    <tr>\n",
              "      <th>4</th>\n",
              "      <td>6.85</td>\n",
              "      <td>0.15</td>\n",
              "      <td>1.01</td>\n",
              "      <td>85.34</td>\n",
              "      <td>332.43</td>\n",
              "      <td>5.147</td>\n",
              "      <td>ND</td>\n",
              "      <td>19.25</td>\n",
              "      <td>43.78</td>\n",
              "      <td>1.43</td>\n",
              "      <td>4.16</td>\n",
              "      <td>Very High</td>\n",
              "    </tr>\n",
              "    <tr>\n",
              "      <th>5</th>\n",
              "      <td>6.26</td>\n",
              "      <td>0.27</td>\n",
              "      <td>1.36</td>\n",
              "      <td>4.71</td>\n",
              "      <td>151.24</td>\n",
              "      <td>7.486</td>\n",
              "      <td>ND</td>\n",
              "      <td>22.27</td>\n",
              "      <td>70.48</td>\n",
              "      <td>1.27</td>\n",
              "      <td>8.17</td>\n",
              "      <td>Medium</td>\n",
              "    </tr>\n",
              "  </tbody>\n",
              "</table>\n",
              "</div>\n",
              "      <button class=\"colab-df-convert\" onclick=\"convertToInteractive('df-763875af-312e-4e9d-9fa6-93b2412df7c8')\"\n",
              "              title=\"Convert this dataframe to an interactive table.\"\n",
              "              style=\"display:none;\">\n",
              "        \n",
              "  <svg xmlns=\"http://www.w3.org/2000/svg\" height=\"24px\"viewBox=\"0 0 24 24\"\n",
              "       width=\"24px\">\n",
              "    <path d=\"M0 0h24v24H0V0z\" fill=\"none\"/>\n",
              "    <path d=\"M18.56 5.44l.94 2.06.94-2.06 2.06-.94-2.06-.94-.94-2.06-.94 2.06-2.06.94zm-11 1L8.5 8.5l.94-2.06 2.06-.94-2.06-.94L8.5 2.5l-.94 2.06-2.06.94zm10 10l.94 2.06.94-2.06 2.06-.94-2.06-.94-.94-2.06-.94 2.06-2.06.94z\"/><path d=\"M17.41 7.96l-1.37-1.37c-.4-.4-.92-.59-1.43-.59-.52 0-1.04.2-1.43.59L10.3 9.45l-7.72 7.72c-.78.78-.78 2.05 0 2.83L4 21.41c.39.39.9.59 1.41.59.51 0 1.02-.2 1.41-.59l7.78-7.78 2.81-2.81c.8-.78.8-2.07 0-2.86zM5.41 20L4 18.59l7.72-7.72 1.47 1.35L5.41 20z\"/>\n",
              "  </svg>\n",
              "      </button>\n",
              "      \n",
              "  <style>\n",
              "    .colab-df-container {\n",
              "      display:flex;\n",
              "      flex-wrap:wrap;\n",
              "      gap: 12px;\n",
              "    }\n",
              "\n",
              "    .colab-df-convert {\n",
              "      background-color: #E8F0FE;\n",
              "      border: none;\n",
              "      border-radius: 50%;\n",
              "      cursor: pointer;\n",
              "      display: none;\n",
              "      fill: #1967D2;\n",
              "      height: 32px;\n",
              "      padding: 0 0 0 0;\n",
              "      width: 32px;\n",
              "    }\n",
              "\n",
              "    .colab-df-convert:hover {\n",
              "      background-color: #E2EBFA;\n",
              "      box-shadow: 0px 1px 2px rgba(60, 64, 67, 0.3), 0px 1px 3px 1px rgba(60, 64, 67, 0.15);\n",
              "      fill: #174EA6;\n",
              "    }\n",
              "\n",
              "    [theme=dark] .colab-df-convert {\n",
              "      background-color: #3B4455;\n",
              "      fill: #D2E3FC;\n",
              "    }\n",
              "\n",
              "    [theme=dark] .colab-df-convert:hover {\n",
              "      background-color: #434B5C;\n",
              "      box-shadow: 0px 1px 3px 1px rgba(0, 0, 0, 0.15);\n",
              "      filter: drop-shadow(0px 1px 2px rgba(0, 0, 0, 0.3));\n",
              "      fill: #FFFFFF;\n",
              "    }\n",
              "  </style>\n",
              "\n",
              "      <script>\n",
              "        const buttonEl =\n",
              "          document.querySelector('#df-763875af-312e-4e9d-9fa6-93b2412df7c8 button.colab-df-convert');\n",
              "        buttonEl.style.display =\n",
              "          google.colab.kernel.accessAllowed ? 'block' : 'none';\n",
              "\n",
              "        async function convertToInteractive(key) {\n",
              "          const element = document.querySelector('#df-763875af-312e-4e9d-9fa6-93b2412df7c8');\n",
              "          const dataTable =\n",
              "            await google.colab.kernel.invokeFunction('convertToInteractive',\n",
              "                                                     [key], {});\n",
              "          if (!dataTable) return;\n",
              "\n",
              "          const docLinkHtml = 'Like what you see? Visit the ' +\n",
              "            '<a target=\"_blank\" href=https://colab.research.google.com/notebooks/data_table.ipynb>data table notebook</a>'\n",
              "            + ' to learn more about interactive tables.';\n",
              "          element.innerHTML = '';\n",
              "          dataTable['output_type'] = 'display_data';\n",
              "          await google.colab.output.renderOutput(dataTable, element);\n",
              "          const docLink = document.createElement('div');\n",
              "          docLink.innerHTML = docLinkHtml;\n",
              "          element.appendChild(docLink);\n",
              "        }\n",
              "      </script>\n",
              "    </div>\n",
              "  </div>\n",
              "  "
            ],
            "text/plain": [
              "  pH (1:2.5) EC dS/m (1:2.5)   OC% P2O5 (kg/ha) K2O (kg/ha) S (ppm) B (ppm)  \\\n",
              "1       6.16            0.14  1.68        29.59      536.25   6.550   0.113   \n",
              "2       7.28            0.07  0.83        55.31      156.80   5.147      ND   \n",
              "3       6.20            1.13  0.55        36.74      100.28   9.357      ND   \n",
              "4       6.85            0.15  1.01        85.34      332.43   5.147      ND   \n",
              "5       6.26            0.27  1.36         4.71      151.24   7.486      ND   \n",
              "\n",
              "  Fe (ppm) Mn (ppm) Zn (ppm) Cu (ppm) Unnamed: 11  \n",
              "1    18.77    61.70     2.33     6.46   Very High  \n",
              "2    13.49    21.60     1.15     3.14      Medium  \n",
              "3    15.28    38.06     0.99     5.82         Low  \n",
              "4    19.25    43.78     1.43     4.16   Very High  \n",
              "5    22.27    70.48     1.27     8.17      Medium  "
            ]
          },
          "execution_count": 21,
          "metadata": {},
          "output_type": "execute_result"
        }
      ],
      "source": [
        "df.head(5)"
      ]
    },
    {
      "cell_type": "code",
      "execution_count": null,
      "metadata": {
        "colab": {
          "base_uri": "https://localhost:8080/"
        },
        "id": "Rw4T0MrcRgld",
        "outputId": "c87b5573-9c4e-43cb-b1d3-e183cda28f94"
      },
      "outputs": [
        {
          "data": {
            "text/plain": [
              "Index(['pH (1:2.5)', 'EC dS/m (1:2.5)', 'OC%', 'P2O5 (kg/ha)', 'K2O (kg/ha)',\n",
              "       'S (ppm)', 'B (ppm)', 'Fe (ppm)', 'Mn (ppm)', 'Zn (ppm)', 'Cu (ppm)',\n",
              "       'Unnamed: 11'],\n",
              "      dtype='object')"
            ]
          },
          "execution_count": 22,
          "metadata": {},
          "output_type": "execute_result"
        }
      ],
      "source": [
        "df.columns"
      ]
    },
    {
      "cell_type": "code",
      "execution_count": null,
      "metadata": {
        "id": "awhGzK2pR-tX"
      },
      "outputs": [],
      "source": [
        "df = df.rename(columns={'Unnamed: 11':'rating'})"
      ]
    },
    {
      "cell_type": "code",
      "execution_count": null,
      "metadata": {
        "colab": {
          "base_uri": "https://localhost:8080/"
        },
        "id": "Wb1hbtbbTQNT",
        "outputId": "b39085c8-f277-4365-ee14-782461c28fc6"
      },
      "outputs": [
        {
          "data": {
            "text/plain": [
              "Index(['pH (1:2.5)', 'EC dS/m (1:2.5)', 'OC%', 'P2O5 (kg/ha)', 'K2O (kg/ha)',\n",
              "       'S (ppm)', 'B (ppm)', 'Fe (ppm)', 'Mn (ppm)', 'Zn (ppm)', 'Cu (ppm)',\n",
              "       'rating'],\n",
              "      dtype='object')"
            ]
          },
          "execution_count": 24,
          "metadata": {},
          "output_type": "execute_result"
        }
      ],
      "source": [
        "df.columns"
      ]
    },
    {
      "cell_type": "code",
      "execution_count": null,
      "metadata": {
        "colab": {
          "base_uri": "https://localhost:8080/",
          "height": 302
        },
        "id": "UNq6AyDqTY87",
        "outputId": "bfaab47c-47e7-4b22-971d-fd1dcf1c6890"
      },
      "outputs": [
        {
          "data": {
            "text/html": [
              "\n",
              "  <div id=\"df-4d93bff1-7fec-4d35-a595-56c5bd3ee293\">\n",
              "    <div class=\"colab-df-container\">\n",
              "      <div>\n",
              "<style scoped>\n",
              "    .dataframe tbody tr th:only-of-type {\n",
              "        vertical-align: middle;\n",
              "    }\n",
              "\n",
              "    .dataframe tbody tr th {\n",
              "        vertical-align: top;\n",
              "    }\n",
              "\n",
              "    .dataframe thead th {\n",
              "        text-align: right;\n",
              "    }\n",
              "</style>\n",
              "<table border=\"1\" class=\"dataframe\">\n",
              "  <thead>\n",
              "    <tr style=\"text-align: right;\">\n",
              "      <th></th>\n",
              "      <th>pH (1:2.5)</th>\n",
              "      <th>EC dS/m (1:2.5)</th>\n",
              "      <th>OC%</th>\n",
              "      <th>P2O5 (kg/ha)</th>\n",
              "      <th>K2O (kg/ha)</th>\n",
              "      <th>S (ppm)</th>\n",
              "      <th>B (ppm)</th>\n",
              "      <th>Fe (ppm)</th>\n",
              "      <th>Mn (ppm)</th>\n",
              "      <th>Zn (ppm)</th>\n",
              "      <th>Cu (ppm)</th>\n",
              "      <th>rating</th>\n",
              "    </tr>\n",
              "  </thead>\n",
              "  <tbody>\n",
              "    <tr>\n",
              "      <th>1</th>\n",
              "      <td>6.16</td>\n",
              "      <td>0.14</td>\n",
              "      <td>1.68</td>\n",
              "      <td>29.59</td>\n",
              "      <td>536.25</td>\n",
              "      <td>6.550</td>\n",
              "      <td>0.113</td>\n",
              "      <td>18.77</td>\n",
              "      <td>61.70</td>\n",
              "      <td>2.33</td>\n",
              "      <td>6.46</td>\n",
              "      <td>Very High</td>\n",
              "    </tr>\n",
              "    <tr>\n",
              "      <th>2</th>\n",
              "      <td>7.28</td>\n",
              "      <td>0.07</td>\n",
              "      <td>0.83</td>\n",
              "      <td>55.31</td>\n",
              "      <td>156.80</td>\n",
              "      <td>5.147</td>\n",
              "      <td>ND</td>\n",
              "      <td>13.49</td>\n",
              "      <td>21.60</td>\n",
              "      <td>1.15</td>\n",
              "      <td>3.14</td>\n",
              "      <td>Medium</td>\n",
              "    </tr>\n",
              "    <tr>\n",
              "      <th>3</th>\n",
              "      <td>6.20</td>\n",
              "      <td>1.13</td>\n",
              "      <td>0.55</td>\n",
              "      <td>36.74</td>\n",
              "      <td>100.28</td>\n",
              "      <td>9.357</td>\n",
              "      <td>ND</td>\n",
              "      <td>15.28</td>\n",
              "      <td>38.06</td>\n",
              "      <td>0.99</td>\n",
              "      <td>5.82</td>\n",
              "      <td>Low</td>\n",
              "    </tr>\n",
              "    <tr>\n",
              "      <th>4</th>\n",
              "      <td>6.85</td>\n",
              "      <td>0.15</td>\n",
              "      <td>1.01</td>\n",
              "      <td>85.34</td>\n",
              "      <td>332.43</td>\n",
              "      <td>5.147</td>\n",
              "      <td>ND</td>\n",
              "      <td>19.25</td>\n",
              "      <td>43.78</td>\n",
              "      <td>1.43</td>\n",
              "      <td>4.16</td>\n",
              "      <td>Very High</td>\n",
              "    </tr>\n",
              "    <tr>\n",
              "      <th>5</th>\n",
              "      <td>6.26</td>\n",
              "      <td>0.27</td>\n",
              "      <td>1.36</td>\n",
              "      <td>4.71</td>\n",
              "      <td>151.24</td>\n",
              "      <td>7.486</td>\n",
              "      <td>ND</td>\n",
              "      <td>22.27</td>\n",
              "      <td>70.48</td>\n",
              "      <td>1.27</td>\n",
              "      <td>8.17</td>\n",
              "      <td>Medium</td>\n",
              "    </tr>\n",
              "  </tbody>\n",
              "</table>\n",
              "</div>\n",
              "      <button class=\"colab-df-convert\" onclick=\"convertToInteractive('df-4d93bff1-7fec-4d35-a595-56c5bd3ee293')\"\n",
              "              title=\"Convert this dataframe to an interactive table.\"\n",
              "              style=\"display:none;\">\n",
              "        \n",
              "  <svg xmlns=\"http://www.w3.org/2000/svg\" height=\"24px\"viewBox=\"0 0 24 24\"\n",
              "       width=\"24px\">\n",
              "    <path d=\"M0 0h24v24H0V0z\" fill=\"none\"/>\n",
              "    <path d=\"M18.56 5.44l.94 2.06.94-2.06 2.06-.94-2.06-.94-.94-2.06-.94 2.06-2.06.94zm-11 1L8.5 8.5l.94-2.06 2.06-.94-2.06-.94L8.5 2.5l-.94 2.06-2.06.94zm10 10l.94 2.06.94-2.06 2.06-.94-2.06-.94-.94-2.06-.94 2.06-2.06.94z\"/><path d=\"M17.41 7.96l-1.37-1.37c-.4-.4-.92-.59-1.43-.59-.52 0-1.04.2-1.43.59L10.3 9.45l-7.72 7.72c-.78.78-.78 2.05 0 2.83L4 21.41c.39.39.9.59 1.41.59.51 0 1.02-.2 1.41-.59l7.78-7.78 2.81-2.81c.8-.78.8-2.07 0-2.86zM5.41 20L4 18.59l7.72-7.72 1.47 1.35L5.41 20z\"/>\n",
              "  </svg>\n",
              "      </button>\n",
              "      \n",
              "  <style>\n",
              "    .colab-df-container {\n",
              "      display:flex;\n",
              "      flex-wrap:wrap;\n",
              "      gap: 12px;\n",
              "    }\n",
              "\n",
              "    .colab-df-convert {\n",
              "      background-color: #E8F0FE;\n",
              "      border: none;\n",
              "      border-radius: 50%;\n",
              "      cursor: pointer;\n",
              "      display: none;\n",
              "      fill: #1967D2;\n",
              "      height: 32px;\n",
              "      padding: 0 0 0 0;\n",
              "      width: 32px;\n",
              "    }\n",
              "\n",
              "    .colab-df-convert:hover {\n",
              "      background-color: #E2EBFA;\n",
              "      box-shadow: 0px 1px 2px rgba(60, 64, 67, 0.3), 0px 1px 3px 1px rgba(60, 64, 67, 0.15);\n",
              "      fill: #174EA6;\n",
              "    }\n",
              "\n",
              "    [theme=dark] .colab-df-convert {\n",
              "      background-color: #3B4455;\n",
              "      fill: #D2E3FC;\n",
              "    }\n",
              "\n",
              "    [theme=dark] .colab-df-convert:hover {\n",
              "      background-color: #434B5C;\n",
              "      box-shadow: 0px 1px 3px 1px rgba(0, 0, 0, 0.15);\n",
              "      filter: drop-shadow(0px 1px 2px rgba(0, 0, 0, 0.3));\n",
              "      fill: #FFFFFF;\n",
              "    }\n",
              "  </style>\n",
              "\n",
              "      <script>\n",
              "        const buttonEl =\n",
              "          document.querySelector('#df-4d93bff1-7fec-4d35-a595-56c5bd3ee293 button.colab-df-convert');\n",
              "        buttonEl.style.display =\n",
              "          google.colab.kernel.accessAllowed ? 'block' : 'none';\n",
              "\n",
              "        async function convertToInteractive(key) {\n",
              "          const element = document.querySelector('#df-4d93bff1-7fec-4d35-a595-56c5bd3ee293');\n",
              "          const dataTable =\n",
              "            await google.colab.kernel.invokeFunction('convertToInteractive',\n",
              "                                                     [key], {});\n",
              "          if (!dataTable) return;\n",
              "\n",
              "          const docLinkHtml = 'Like what you see? Visit the ' +\n",
              "            '<a target=\"_blank\" href=https://colab.research.google.com/notebooks/data_table.ipynb>data table notebook</a>'\n",
              "            + ' to learn more about interactive tables.';\n",
              "          element.innerHTML = '';\n",
              "          dataTable['output_type'] = 'display_data';\n",
              "          await google.colab.output.renderOutput(dataTable, element);\n",
              "          const docLink = document.createElement('div');\n",
              "          docLink.innerHTML = docLinkHtml;\n",
              "          element.appendChild(docLink);\n",
              "        }\n",
              "      </script>\n",
              "    </div>\n",
              "  </div>\n",
              "  "
            ],
            "text/plain": [
              "  pH (1:2.5) EC dS/m (1:2.5)   OC% P2O5 (kg/ha) K2O (kg/ha) S (ppm) B (ppm)  \\\n",
              "1       6.16            0.14  1.68        29.59      536.25   6.550   0.113   \n",
              "2       7.28            0.07  0.83        55.31      156.80   5.147      ND   \n",
              "3       6.20            1.13  0.55        36.74      100.28   9.357      ND   \n",
              "4       6.85            0.15  1.01        85.34      332.43   5.147      ND   \n",
              "5       6.26            0.27  1.36         4.71      151.24   7.486      ND   \n",
              "\n",
              "  Fe (ppm) Mn (ppm) Zn (ppm) Cu (ppm)     rating  \n",
              "1    18.77    61.70     2.33     6.46  Very High  \n",
              "2    13.49    21.60     1.15     3.14     Medium  \n",
              "3    15.28    38.06     0.99     5.82        Low  \n",
              "4    19.25    43.78     1.43     4.16  Very High  \n",
              "5    22.27    70.48     1.27     8.17     Medium  "
            ]
          },
          "execution_count": 25,
          "metadata": {},
          "output_type": "execute_result"
        }
      ],
      "source": [
        "df.head(5)"
      ]
    },
    {
      "cell_type": "code",
      "execution_count": null,
      "metadata": {
        "colab": {
          "base_uri": "https://localhost:8080/"
        },
        "id": "1zT7-rnBRmPo",
        "outputId": "c23f8f3b-c8fb-4967-aa26-498cc6fc0b26"
      },
      "outputs": [
        {
          "data": {
            "text/plain": [
              "pH (1:2.5)           2\n",
              "EC dS/m (1:2.5)      2\n",
              "OC%                  2\n",
              "P2O5 (kg/ha)         2\n",
              "K2O (kg/ha)          2\n",
              "S (ppm)              2\n",
              "B (ppm)              2\n",
              "Fe (ppm)           123\n",
              "Mn (ppm)           123\n",
              "Zn (ppm)           123\n",
              "Cu (ppm)           123\n",
              "rating               0\n",
              "dtype: int64"
            ]
          },
          "execution_count": 26,
          "metadata": {},
          "output_type": "execute_result"
        }
      ],
      "source": [
        "df.isnull().sum()"
      ]
    },
    {
      "cell_type": "code",
      "execution_count": null,
      "metadata": {
        "colab": {
          "base_uri": "https://localhost:8080/"
        },
        "id": "DDoanKfoUGaG",
        "outputId": "76ecdd0e-0049-4c04-debe-5dd5a1951808"
      },
      "outputs": [
        {
          "data": {
            "text/plain": [
              "0    6.60\n",
              "1    7.10\n",
              "2     7.2\n",
              "3    7.25\n",
              "dtype: object"
            ]
          },
          "execution_count": 27,
          "metadata": {},
          "output_type": "execute_result"
        }
      ],
      "source": [
        "df['pH (1:2.5)'].mode()"
      ]
    },
    {
      "cell_type": "code",
      "execution_count": null,
      "metadata": {
        "id": "anGbFrp8Rux0"
      },
      "outputs": [],
      "source": [
        "df['pH (1:2.5)'].fillna(7.10,inplace = True)"
      ]
    },
    {
      "cell_type": "code",
      "execution_count": null,
      "metadata": {
        "colab": {
          "base_uri": "https://localhost:8080/"
        },
        "id": "VNFbgFowUioh",
        "outputId": "c56f8c63-f272-4b3d-8bac-fe3e586fdb65"
      },
      "outputs": [
        {
          "data": {
            "text/plain": [
              "0    0.08\n",
              "1    0.10\n",
              "dtype: object"
            ]
          },
          "execution_count": 29,
          "metadata": {},
          "output_type": "execute_result"
        }
      ],
      "source": [
        "df['EC dS/m (1:2.5)'].mode()"
      ]
    },
    {
      "cell_type": "code",
      "execution_count": null,
      "metadata": {
        "id": "QxzWoGLQUxJT"
      },
      "outputs": [],
      "source": [
        "df['EC dS/m (1:2.5)'].fillna(0.10,inplace = True) \n"
      ]
    },
    {
      "cell_type": "code",
      "execution_count": null,
      "metadata": {
        "colab": {
          "base_uri": "https://localhost:8080/"
        },
        "id": "WFw5-CSXU9WN",
        "outputId": "eef8d780-72a1-4415-a756-ddff5aa4825f"
      },
      "outputs": [
        {
          "data": {
            "text/plain": [
              "0    0.80\n",
              "dtype: object"
            ]
          },
          "execution_count": 31,
          "metadata": {},
          "output_type": "execute_result"
        }
      ],
      "source": [
        "df['OC%'].mode()"
      ]
    },
    {
      "cell_type": "code",
      "execution_count": null,
      "metadata": {
        "id": "Xnbmdv-bVHAe"
      },
      "outputs": [],
      "source": [
        "df['OC%'].fillna(0.80,inplace = True) \n"
      ]
    },
    {
      "cell_type": "code",
      "execution_count": null,
      "metadata": {
        "colab": {
          "base_uri": "https://localhost:8080/"
        },
        "id": "OBp3mxSTVMqV",
        "outputId": "fbcb9a8c-5f58-496c-e42b-6fe734648f6e"
      },
      "outputs": [
        {
          "data": {
            "text/plain": [
              "0    15.68\n",
              "dtype: object"
            ]
          },
          "execution_count": 33,
          "metadata": {},
          "output_type": "execute_result"
        }
      ],
      "source": [
        "df['P2O5 (kg/ha)'].mode()"
      ]
    },
    {
      "cell_type": "code",
      "execution_count": null,
      "metadata": {
        "id": "_Xkg1GvcVVQs"
      },
      "outputs": [],
      "source": [
        "df['P2O5 (kg/ha)'].fillna(15.68,inplace = True) \n"
      ]
    },
    {
      "cell_type": "code",
      "execution_count": null,
      "metadata": {
        "colab": {
          "base_uri": "https://localhost:8080/"
        },
        "id": "nvH9tS58VeFX",
        "outputId": "f9e2bf41-3313-4358-cdc6-4fa5cc676ad6"
      },
      "outputs": [
        {
          "data": {
            "text/plain": [
              "0         -\n",
              "1    125.76\n",
              "2    165.33\n",
              "3    175.50\n",
              "4    177.67\n",
              "5    202.74\n",
              "6    359.26\n",
              "7    457.92\n",
              "dtype: object"
            ]
          },
          "execution_count": 35,
          "metadata": {},
          "output_type": "execute_result"
        }
      ],
      "source": [
        "df['K2O (kg/ha)'].mode()"
      ]
    },
    {
      "cell_type": "code",
      "execution_count": null,
      "metadata": {
        "id": "i1sk7TciVmfm"
      },
      "outputs": [],
      "source": [
        "df['K2O (kg/ha)'].fillna(177.67,inplace = True)"
      ]
    },
    {
      "cell_type": "code",
      "execution_count": null,
      "metadata": {
        "colab": {
          "base_uri": "https://localhost:8080/"
        },
        "id": "OkmFwk_DVy7c",
        "outputId": "de8a670e-d139-45c7-bc35-abf706959374"
      },
      "outputs": [
        {
          "data": {
            "text/plain": [
              "0    11.15\n",
              "1    16.23\n",
              "2     5.04\n",
              "3    65.86\n",
              "dtype: object"
            ]
          },
          "execution_count": 37,
          "metadata": {},
          "output_type": "execute_result"
        }
      ],
      "source": [
        "df['Mn (ppm)'].mode()"
      ]
    },
    {
      "cell_type": "code",
      "execution_count": null,
      "metadata": {
        "id": "m0wOwzs9V2RJ"
      },
      "outputs": [],
      "source": [
        "df['Mn (ppm)'].fillna(5.04,inplace = True)"
      ]
    },
    {
      "cell_type": "code",
      "execution_count": null,
      "metadata": {
        "colab": {
          "base_uri": "https://localhost:8080/"
        },
        "id": "J9gxv936V-7H",
        "outputId": "1b7638c9-e838-422e-f535-4a0a94451bf4"
      },
      "outputs": [
        {
          "data": {
            "text/plain": [
              "0    1.871\n",
              "dtype: object"
            ]
          },
          "execution_count": 39,
          "metadata": {},
          "output_type": "execute_result"
        }
      ],
      "source": [
        "df['S (ppm)'].mode()"
      ]
    },
    {
      "cell_type": "code",
      "execution_count": null,
      "metadata": {
        "id": "_CjxNYQ5WqTn"
      },
      "outputs": [],
      "source": [
        "df['S (ppm)'].fillna(1.871,inplace = True)"
      ]
    },
    {
      "cell_type": "code",
      "execution_count": null,
      "metadata": {
        "colab": {
          "base_uri": "https://localhost:8080/"
        },
        "id": "FPd--bEoWxLb",
        "outputId": "e61857f9-e3b7-43d8-96a6-ae702fbf3f38"
      },
      "outputs": [
        {
          "data": {
            "text/plain": [
              "0    0.26\n",
              "dtype: object"
            ]
          },
          "execution_count": 41,
          "metadata": {},
          "output_type": "execute_result"
        }
      ],
      "source": [
        "df['Zn (ppm)'].mode()"
      ]
    },
    {
      "cell_type": "code",
      "execution_count": null,
      "metadata": {
        "id": "h2E27dFbW4GI"
      },
      "outputs": [],
      "source": [
        "df['Zn (ppm)'].fillna(0.26,inplace = True)"
      ]
    },
    {
      "cell_type": "code",
      "execution_count": null,
      "metadata": {
        "colab": {
          "base_uri": "https://localhost:8080/"
        },
        "id": "VEE5GafPXPA5",
        "outputId": "f6d8b042-bb45-4ba3-efd2-6acd7a007374"
      },
      "outputs": [
        {
          "data": {
            "text/plain": [
              "0    1.65\n",
              "1    2.29\n",
              "2    4.48\n",
              "dtype: object"
            ]
          },
          "execution_count": 43,
          "metadata": {},
          "output_type": "execute_result"
        }
      ],
      "source": [
        "df['Cu (ppm)'].mode()"
      ]
    },
    {
      "cell_type": "code",
      "execution_count": null,
      "metadata": {
        "id": "qqsdAmn7XXLz"
      },
      "outputs": [],
      "source": [
        "df['Cu (ppm)'].fillna(2.29,inplace = True)"
      ]
    },
    {
      "cell_type": "code",
      "execution_count": null,
      "metadata": {
        "colab": {
          "base_uri": "https://localhost:8080/"
        },
        "id": "kb5loR_ZXh8l",
        "outputId": "fe21947a-0756-434f-daf4-b480aa936b8b"
      },
      "outputs": [
        {
          "data": {
            "text/plain": [
              "1      0.113\n",
              "2          0\n",
              "3          0\n",
              "4          0\n",
              "5          0\n",
              "       ...  \n",
              "251    1.021\n",
              "252    0.908\n",
              "253    0.681\n",
              "254      NaN\n",
              "255      NaN\n",
              "Name: B (ppm), Length: 255, dtype: object"
            ]
          },
          "execution_count": 45,
          "metadata": {},
          "output_type": "execute_result"
        }
      ],
      "source": [
        "df['B (ppm)'].replace(to_replace=\"ND\",\n",
        "           value=\"0\")"
      ]
    },
    {
      "cell_type": "code",
      "execution_count": null,
      "metadata": {
        "id": "zaFwEbooXpBb"
      },
      "outputs": [],
      "source": [
        "df['B (ppm)'] = df['B (ppm)'].fillna(0,inplace = True)"
      ]
    },
    {
      "cell_type": "code",
      "execution_count": null,
      "metadata": {
        "colab": {
          "base_uri": "https://localhost:8080/"
        },
        "id": "QrQ0iWKAZDy6",
        "outputId": "d2bc4b11-5da5-4523-8ecb-912912255203"
      },
      "outputs": [
        {
          "data": {
            "text/plain": [
              "0    22.27\n",
              "dtype: object"
            ]
          },
          "execution_count": 47,
          "metadata": {},
          "output_type": "execute_result"
        }
      ],
      "source": [
        "df['Fe (ppm)'].mode()"
      ]
    },
    {
      "cell_type": "code",
      "execution_count": null,
      "metadata": {
        "id": "Olh3yV9uZHyn"
      },
      "outputs": [],
      "source": [
        "df['Fe (ppm)'].fillna(22.27,inplace = True)"
      ]
    },
    {
      "cell_type": "code",
      "execution_count": null,
      "metadata": {
        "colab": {
          "base_uri": "https://localhost:8080/"
        },
        "id": "gcrforbAZMux",
        "outputId": "779435f3-7ba9-4921-fc29-4772d4f775d7"
      },
      "outputs": [
        {
          "data": {
            "text/plain": [
              "pH (1:2.5)           0\n",
              "EC dS/m (1:2.5)      0\n",
              "OC%                  0\n",
              "P2O5 (kg/ha)         0\n",
              "K2O (kg/ha)          0\n",
              "S (ppm)              0\n",
              "B (ppm)            255\n",
              "Fe (ppm)             0\n",
              "Mn (ppm)             0\n",
              "Zn (ppm)             0\n",
              "Cu (ppm)             0\n",
              "rating               0\n",
              "dtype: int64"
            ]
          },
          "execution_count": 49,
          "metadata": {},
          "output_type": "execute_result"
        }
      ],
      "source": [
        "df.isnull().sum()"
      ]
    },
    {
      "cell_type": "code",
      "execution_count": null,
      "metadata": {
        "colab": {
          "base_uri": "https://localhost:8080/",
          "height": 685
        },
        "id": "BQcXBtp6ZQ47",
        "outputId": "25c7b2f4-5459-43c0-ab92-550a91116b9a"
      },
      "outputs": [
        {
          "data": {
            "text/html": [
              "\n",
              "  <div id=\"df-2fd1dc8d-3690-44e7-b67c-a6e43df593ac\">\n",
              "    <div class=\"colab-df-container\">\n",
              "      <div>\n",
              "<style scoped>\n",
              "    .dataframe tbody tr th:only-of-type {\n",
              "        vertical-align: middle;\n",
              "    }\n",
              "\n",
              "    .dataframe tbody tr th {\n",
              "        vertical-align: top;\n",
              "    }\n",
              "\n",
              "    .dataframe thead th {\n",
              "        text-align: right;\n",
              "    }\n",
              "</style>\n",
              "<table border=\"1\" class=\"dataframe\">\n",
              "  <thead>\n",
              "    <tr style=\"text-align: right;\">\n",
              "      <th></th>\n",
              "      <th>pH (1:2.5)</th>\n",
              "      <th>EC dS/m (1:2.5)</th>\n",
              "      <th>OC%</th>\n",
              "      <th>P2O5 (kg/ha)</th>\n",
              "      <th>K2O (kg/ha)</th>\n",
              "      <th>S (ppm)</th>\n",
              "      <th>B (ppm)</th>\n",
              "      <th>Fe (ppm)</th>\n",
              "      <th>Mn (ppm)</th>\n",
              "      <th>Zn (ppm)</th>\n",
              "      <th>Cu (ppm)</th>\n",
              "      <th>rating</th>\n",
              "    </tr>\n",
              "  </thead>\n",
              "  <tbody>\n",
              "    <tr>\n",
              "      <th>1</th>\n",
              "      <td>6.16</td>\n",
              "      <td>0.14</td>\n",
              "      <td>1.68</td>\n",
              "      <td>29.59</td>\n",
              "      <td>536.25</td>\n",
              "      <td>6.550</td>\n",
              "      <td>None</td>\n",
              "      <td>18.77</td>\n",
              "      <td>61.70</td>\n",
              "      <td>2.33</td>\n",
              "      <td>6.46</td>\n",
              "      <td>Very High</td>\n",
              "    </tr>\n",
              "    <tr>\n",
              "      <th>2</th>\n",
              "      <td>7.28</td>\n",
              "      <td>0.07</td>\n",
              "      <td>0.83</td>\n",
              "      <td>55.31</td>\n",
              "      <td>156.80</td>\n",
              "      <td>5.147</td>\n",
              "      <td>None</td>\n",
              "      <td>13.49</td>\n",
              "      <td>21.60</td>\n",
              "      <td>1.15</td>\n",
              "      <td>3.14</td>\n",
              "      <td>Medium</td>\n",
              "    </tr>\n",
              "    <tr>\n",
              "      <th>3</th>\n",
              "      <td>6.20</td>\n",
              "      <td>1.13</td>\n",
              "      <td>0.55</td>\n",
              "      <td>36.74</td>\n",
              "      <td>100.28</td>\n",
              "      <td>9.357</td>\n",
              "      <td>None</td>\n",
              "      <td>15.28</td>\n",
              "      <td>38.06</td>\n",
              "      <td>0.99</td>\n",
              "      <td>5.82</td>\n",
              "      <td>Low</td>\n",
              "    </tr>\n",
              "    <tr>\n",
              "      <th>4</th>\n",
              "      <td>6.85</td>\n",
              "      <td>0.15</td>\n",
              "      <td>1.01</td>\n",
              "      <td>85.34</td>\n",
              "      <td>332.43</td>\n",
              "      <td>5.147</td>\n",
              "      <td>None</td>\n",
              "      <td>19.25</td>\n",
              "      <td>43.78</td>\n",
              "      <td>1.43</td>\n",
              "      <td>4.16</td>\n",
              "      <td>Very High</td>\n",
              "    </tr>\n",
              "    <tr>\n",
              "      <th>5</th>\n",
              "      <td>6.26</td>\n",
              "      <td>0.27</td>\n",
              "      <td>1.36</td>\n",
              "      <td>4.71</td>\n",
              "      <td>151.24</td>\n",
              "      <td>7.486</td>\n",
              "      <td>None</td>\n",
              "      <td>22.27</td>\n",
              "      <td>70.48</td>\n",
              "      <td>1.27</td>\n",
              "      <td>8.17</td>\n",
              "      <td>Medium</td>\n",
              "    </tr>\n",
              "    <tr>\n",
              "      <th>6</th>\n",
              "      <td>7.00</td>\n",
              "      <td>0.17</td>\n",
              "      <td>0.61</td>\n",
              "      <td>61.06</td>\n",
              "      <td>449.38</td>\n",
              "      <td>5.147</td>\n",
              "      <td>None</td>\n",
              "      <td>15.66</td>\n",
              "      <td>19.62</td>\n",
              "      <td>1.39</td>\n",
              "      <td>4.21</td>\n",
              "      <td>Very High</td>\n",
              "    </tr>\n",
              "    <tr>\n",
              "      <th>7</th>\n",
              "      <td>6.30</td>\n",
              "      <td>0.08</td>\n",
              "      <td>0.92</td>\n",
              "      <td>17.05</td>\n",
              "      <td>208.43</td>\n",
              "      <td>2.807</td>\n",
              "      <td>None</td>\n",
              "      <td>22.55</td>\n",
              "      <td>110.42</td>\n",
              "      <td>1.57</td>\n",
              "      <td>7.48</td>\n",
              "      <td>High</td>\n",
              "    </tr>\n",
              "    <tr>\n",
              "      <th>8</th>\n",
              "      <td>7.35</td>\n",
              "      <td>0.11</td>\n",
              "      <td>0.66</td>\n",
              "      <td>20.94</td>\n",
              "      <td>402.36</td>\n",
              "      <td>3.275</td>\n",
              "      <td>None</td>\n",
              "      <td>13.87</td>\n",
              "      <td>74.64</td>\n",
              "      <td>1.90</td>\n",
              "      <td>7.00</td>\n",
              "      <td>Very High</td>\n",
              "    </tr>\n",
              "    <tr>\n",
              "      <th>9</th>\n",
              "      <td>6.60</td>\n",
              "      <td>0.59</td>\n",
              "      <td>0.83</td>\n",
              "      <td>10.85</td>\n",
              "      <td>177.40</td>\n",
              "      <td>24.797</td>\n",
              "      <td>None</td>\n",
              "      <td>10.47</td>\n",
              "      <td>9.58</td>\n",
              "      <td>1.39</td>\n",
              "      <td>2.45</td>\n",
              "      <td>Medium</td>\n",
              "    </tr>\n",
              "    <tr>\n",
              "      <th>10</th>\n",
              "      <td>6.65</td>\n",
              "      <td>0.11</td>\n",
              "      <td>1.16</td>\n",
              "      <td>33.55</td>\n",
              "      <td>123.87</td>\n",
              "      <td>4.211</td>\n",
              "      <td>None</td>\n",
              "      <td>11.32</td>\n",
              "      <td>22.32</td>\n",
              "      <td>1.46</td>\n",
              "      <td>2.13</td>\n",
              "      <td>Low</td>\n",
              "    </tr>\n",
              "    <tr>\n",
              "      <th>11</th>\n",
              "      <td>7.10</td>\n",
              "      <td>0.06</td>\n",
              "      <td>0.41</td>\n",
              "      <td>13.17</td>\n",
              "      <td>146.63</td>\n",
              "      <td>4.679</td>\n",
              "      <td>None</td>\n",
              "      <td>15.38</td>\n",
              "      <td>22.46</td>\n",
              "      <td>1.13</td>\n",
              "      <td>4.27</td>\n",
              "      <td>Low</td>\n",
              "    </tr>\n",
              "    <tr>\n",
              "      <th>12</th>\n",
              "      <td>7.15</td>\n",
              "      <td>0.24</td>\n",
              "      <td>2.97</td>\n",
              "      <td>88.75</td>\n",
              "      <td>311.02</td>\n",
              "      <td>7.954</td>\n",
              "      <td>None</td>\n",
              "      <td>32.45</td>\n",
              "      <td>11.15</td>\n",
              "      <td>6.09</td>\n",
              "      <td>3.14</td>\n",
              "      <td>Very High</td>\n",
              "    </tr>\n",
              "    <tr>\n",
              "      <th>13</th>\n",
              "      <td>8.10</td>\n",
              "      <td>0.10</td>\n",
              "      <td>0.84</td>\n",
              "      <td>26.43</td>\n",
              "      <td>529.07</td>\n",
              "      <td>1.404</td>\n",
              "      <td>None</td>\n",
              "      <td>3.77</td>\n",
              "      <td>5.04</td>\n",
              "      <td>0.89</td>\n",
              "      <td>0.52</td>\n",
              "      <td>Very High</td>\n",
              "    </tr>\n",
              "    <tr>\n",
              "      <th>14</th>\n",
              "      <td>7.45</td>\n",
              "      <td>0.10</td>\n",
              "      <td>0.46</td>\n",
              "      <td>416.26</td>\n",
              "      <td>188.10</td>\n",
              "      <td>10.293</td>\n",
              "      <td>None</td>\n",
              "      <td>16.42</td>\n",
              "      <td>14.87</td>\n",
              "      <td>2.21</td>\n",
              "      <td>4.21</td>\n",
              "      <td>Medium</td>\n",
              "    </tr>\n",
              "    <tr>\n",
              "      <th>15</th>\n",
              "      <td>7.25</td>\n",
              "      <td>0.08</td>\n",
              "      <td>1.03</td>\n",
              "      <td>12.40</td>\n",
              "      <td>236.48</td>\n",
              "      <td>5.147</td>\n",
              "      <td>None</td>\n",
              "      <td>12.83</td>\n",
              "      <td>63.76</td>\n",
              "      <td>6.63</td>\n",
              "      <td>3.87</td>\n",
              "      <td>High</td>\n",
              "    </tr>\n",
              "  </tbody>\n",
              "</table>\n",
              "</div>\n",
              "      <button class=\"colab-df-convert\" onclick=\"convertToInteractive('df-2fd1dc8d-3690-44e7-b67c-a6e43df593ac')\"\n",
              "              title=\"Convert this dataframe to an interactive table.\"\n",
              "              style=\"display:none;\">\n",
              "        \n",
              "  <svg xmlns=\"http://www.w3.org/2000/svg\" height=\"24px\"viewBox=\"0 0 24 24\"\n",
              "       width=\"24px\">\n",
              "    <path d=\"M0 0h24v24H0V0z\" fill=\"none\"/>\n",
              "    <path d=\"M18.56 5.44l.94 2.06.94-2.06 2.06-.94-2.06-.94-.94-2.06-.94 2.06-2.06.94zm-11 1L8.5 8.5l.94-2.06 2.06-.94-2.06-.94L8.5 2.5l-.94 2.06-2.06.94zm10 10l.94 2.06.94-2.06 2.06-.94-2.06-.94-.94-2.06-.94 2.06-2.06.94z\"/><path d=\"M17.41 7.96l-1.37-1.37c-.4-.4-.92-.59-1.43-.59-.52 0-1.04.2-1.43.59L10.3 9.45l-7.72 7.72c-.78.78-.78 2.05 0 2.83L4 21.41c.39.39.9.59 1.41.59.51 0 1.02-.2 1.41-.59l7.78-7.78 2.81-2.81c.8-.78.8-2.07 0-2.86zM5.41 20L4 18.59l7.72-7.72 1.47 1.35L5.41 20z\"/>\n",
              "  </svg>\n",
              "      </button>\n",
              "      \n",
              "  <style>\n",
              "    .colab-df-container {\n",
              "      display:flex;\n",
              "      flex-wrap:wrap;\n",
              "      gap: 12px;\n",
              "    }\n",
              "\n",
              "    .colab-df-convert {\n",
              "      background-color: #E8F0FE;\n",
              "      border: none;\n",
              "      border-radius: 50%;\n",
              "      cursor: pointer;\n",
              "      display: none;\n",
              "      fill: #1967D2;\n",
              "      height: 32px;\n",
              "      padding: 0 0 0 0;\n",
              "      width: 32px;\n",
              "    }\n",
              "\n",
              "    .colab-df-convert:hover {\n",
              "      background-color: #E2EBFA;\n",
              "      box-shadow: 0px 1px 2px rgba(60, 64, 67, 0.3), 0px 1px 3px 1px rgba(60, 64, 67, 0.15);\n",
              "      fill: #174EA6;\n",
              "    }\n",
              "\n",
              "    [theme=dark] .colab-df-convert {\n",
              "      background-color: #3B4455;\n",
              "      fill: #D2E3FC;\n",
              "    }\n",
              "\n",
              "    [theme=dark] .colab-df-convert:hover {\n",
              "      background-color: #434B5C;\n",
              "      box-shadow: 0px 1px 3px 1px rgba(0, 0, 0, 0.15);\n",
              "      filter: drop-shadow(0px 1px 2px rgba(0, 0, 0, 0.3));\n",
              "      fill: #FFFFFF;\n",
              "    }\n",
              "  </style>\n",
              "\n",
              "      <script>\n",
              "        const buttonEl =\n",
              "          document.querySelector('#df-2fd1dc8d-3690-44e7-b67c-a6e43df593ac button.colab-df-convert');\n",
              "        buttonEl.style.display =\n",
              "          google.colab.kernel.accessAllowed ? 'block' : 'none';\n",
              "\n",
              "        async function convertToInteractive(key) {\n",
              "          const element = document.querySelector('#df-2fd1dc8d-3690-44e7-b67c-a6e43df593ac');\n",
              "          const dataTable =\n",
              "            await google.colab.kernel.invokeFunction('convertToInteractive',\n",
              "                                                     [key], {});\n",
              "          if (!dataTable) return;\n",
              "\n",
              "          const docLinkHtml = 'Like what you see? Visit the ' +\n",
              "            '<a target=\"_blank\" href=https://colab.research.google.com/notebooks/data_table.ipynb>data table notebook</a>'\n",
              "            + ' to learn more about interactive tables.';\n",
              "          element.innerHTML = '';\n",
              "          dataTable['output_type'] = 'display_data';\n",
              "          await google.colab.output.renderOutput(dataTable, element);\n",
              "          const docLink = document.createElement('div');\n",
              "          docLink.innerHTML = docLinkHtml;\n",
              "          element.appendChild(docLink);\n",
              "        }\n",
              "      </script>\n",
              "    </div>\n",
              "  </div>\n",
              "  "
            ],
            "text/plain": [
              "   pH (1:2.5) EC dS/m (1:2.5)   OC% P2O5 (kg/ha) K2O (kg/ha) S (ppm) B (ppm)  \\\n",
              "1        6.16            0.14  1.68        29.59      536.25   6.550    None   \n",
              "2        7.28            0.07  0.83        55.31      156.80   5.147    None   \n",
              "3        6.20            1.13  0.55        36.74      100.28   9.357    None   \n",
              "4        6.85            0.15  1.01        85.34      332.43   5.147    None   \n",
              "5        6.26            0.27  1.36         4.71      151.24   7.486    None   \n",
              "6        7.00            0.17  0.61        61.06      449.38   5.147    None   \n",
              "7        6.30            0.08  0.92        17.05      208.43   2.807    None   \n",
              "8        7.35            0.11  0.66        20.94      402.36   3.275    None   \n",
              "9        6.60            0.59  0.83        10.85      177.40  24.797    None   \n",
              "10       6.65            0.11  1.16        33.55      123.87   4.211    None   \n",
              "11       7.10            0.06  0.41        13.17      146.63   4.679    None   \n",
              "12       7.15            0.24  2.97        88.75      311.02   7.954    None   \n",
              "13       8.10            0.10  0.84        26.43      529.07   1.404    None   \n",
              "14       7.45            0.10  0.46       416.26      188.10  10.293    None   \n",
              "15       7.25            0.08  1.03        12.40      236.48   5.147    None   \n",
              "\n",
              "   Fe (ppm) Mn (ppm) Zn (ppm) Cu (ppm)     rating  \n",
              "1     18.77    61.70     2.33     6.46  Very High  \n",
              "2     13.49    21.60     1.15     3.14     Medium  \n",
              "3     15.28    38.06     0.99     5.82        Low  \n",
              "4     19.25    43.78     1.43     4.16  Very High  \n",
              "5     22.27    70.48     1.27     8.17     Medium  \n",
              "6     15.66    19.62     1.39     4.21  Very High  \n",
              "7     22.55   110.42     1.57     7.48       High  \n",
              "8     13.87    74.64     1.90     7.00  Very High  \n",
              "9     10.47     9.58     1.39     2.45     Medium  \n",
              "10    11.32    22.32     1.46     2.13        Low  \n",
              "11    15.38    22.46     1.13     4.27        Low  \n",
              "12    32.45    11.15     6.09     3.14  Very High  \n",
              "13     3.77     5.04     0.89     0.52  Very High  \n",
              "14    16.42    14.87     2.21     4.21     Medium  \n",
              "15    12.83    63.76     6.63     3.87       High  "
            ]
          },
          "execution_count": 50,
          "metadata": {},
          "output_type": "execute_result"
        }
      ],
      "source": [
        "df.head(15)"
      ]
    },
    {
      "cell_type": "code",
      "execution_count": null,
      "metadata": {
        "colab": {
          "base_uri": "https://localhost:8080/"
        },
        "id": "Bbfi6DVMaXpf",
        "outputId": "77568a1d-c1d9-45eb-c9b5-051da4553941"
      },
      "outputs": [
        {
          "data": {
            "text/plain": [
              "dtype('O')"
            ]
          },
          "execution_count": 51,
          "metadata": {},
          "output_type": "execute_result"
        }
      ],
      "source": [
        "df['B (ppm)'].dtype"
      ]
    },
    {
      "cell_type": "code",
      "execution_count": null,
      "metadata": {
        "id": "kBTkft0xaob1"
      },
      "outputs": [],
      "source": [
        "df = df.drop('B (ppm)',axis = 1)"
      ]
    },
    {
      "cell_type": "code",
      "execution_count": null,
      "metadata": {
        "colab": {
          "base_uri": "https://localhost:8080/"
        },
        "id": "xYDDIlh_b_e8",
        "outputId": "d9c992ef-174b-4c71-bdae-e7e6e77ca89f"
      },
      "outputs": [
        {
          "data": {
            "text/plain": [
              "(255, 11)"
            ]
          },
          "execution_count": 53,
          "metadata": {},
          "output_type": "execute_result"
        }
      ],
      "source": [
        "df.shape"
      ]
    },
    {
      "cell_type": "code",
      "execution_count": null,
      "metadata": {
        "colab": {
          "base_uri": "https://localhost:8080/",
          "height": 564
        },
        "id": "ypnRwe8Ha0c9",
        "outputId": "7b844da9-dcd0-43cd-ab40-9efd882e3e51"
      },
      "outputs": [
        {
          "data": {
            "text/html": [
              "\n",
              "  <div id=\"df-586619eb-3235-4e4f-a226-2873a927cfc5\">\n",
              "    <div class=\"colab-df-container\">\n",
              "      <div>\n",
              "<style scoped>\n",
              "    .dataframe tbody tr th:only-of-type {\n",
              "        vertical-align: middle;\n",
              "    }\n",
              "\n",
              "    .dataframe tbody tr th {\n",
              "        vertical-align: top;\n",
              "    }\n",
              "\n",
              "    .dataframe thead th {\n",
              "        text-align: right;\n",
              "    }\n",
              "</style>\n",
              "<table border=\"1\" class=\"dataframe\">\n",
              "  <thead>\n",
              "    <tr style=\"text-align: right;\">\n",
              "      <th></th>\n",
              "      <th>pH (1:2.5)</th>\n",
              "      <th>EC dS/m (1:2.5)</th>\n",
              "      <th>OC%</th>\n",
              "      <th>P2O5 (kg/ha)</th>\n",
              "      <th>K2O (kg/ha)</th>\n",
              "      <th>S (ppm)</th>\n",
              "      <th>Fe (ppm)</th>\n",
              "      <th>Mn (ppm)</th>\n",
              "      <th>Zn (ppm)</th>\n",
              "      <th>Cu (ppm)</th>\n",
              "      <th>rating</th>\n",
              "    </tr>\n",
              "  </thead>\n",
              "  <tbody>\n",
              "    <tr>\n",
              "      <th>1</th>\n",
              "      <td>6.16</td>\n",
              "      <td>0.14</td>\n",
              "      <td>1.68</td>\n",
              "      <td>29.59</td>\n",
              "      <td>536.25</td>\n",
              "      <td>6.550</td>\n",
              "      <td>18.77</td>\n",
              "      <td>61.70</td>\n",
              "      <td>2.33</td>\n",
              "      <td>6.46</td>\n",
              "      <td>Very High</td>\n",
              "    </tr>\n",
              "    <tr>\n",
              "      <th>2</th>\n",
              "      <td>7.28</td>\n",
              "      <td>0.07</td>\n",
              "      <td>0.83</td>\n",
              "      <td>55.31</td>\n",
              "      <td>156.80</td>\n",
              "      <td>5.147</td>\n",
              "      <td>13.49</td>\n",
              "      <td>21.60</td>\n",
              "      <td>1.15</td>\n",
              "      <td>3.14</td>\n",
              "      <td>Medium</td>\n",
              "    </tr>\n",
              "    <tr>\n",
              "      <th>3</th>\n",
              "      <td>6.20</td>\n",
              "      <td>1.13</td>\n",
              "      <td>0.55</td>\n",
              "      <td>36.74</td>\n",
              "      <td>100.28</td>\n",
              "      <td>9.357</td>\n",
              "      <td>15.28</td>\n",
              "      <td>38.06</td>\n",
              "      <td>0.99</td>\n",
              "      <td>5.82</td>\n",
              "      <td>Low</td>\n",
              "    </tr>\n",
              "    <tr>\n",
              "      <th>4</th>\n",
              "      <td>6.85</td>\n",
              "      <td>0.15</td>\n",
              "      <td>1.01</td>\n",
              "      <td>85.34</td>\n",
              "      <td>332.43</td>\n",
              "      <td>5.147</td>\n",
              "      <td>19.25</td>\n",
              "      <td>43.78</td>\n",
              "      <td>1.43</td>\n",
              "      <td>4.16</td>\n",
              "      <td>Very High</td>\n",
              "    </tr>\n",
              "    <tr>\n",
              "      <th>5</th>\n",
              "      <td>6.26</td>\n",
              "      <td>0.27</td>\n",
              "      <td>1.36</td>\n",
              "      <td>4.71</td>\n",
              "      <td>151.24</td>\n",
              "      <td>7.486</td>\n",
              "      <td>22.27</td>\n",
              "      <td>70.48</td>\n",
              "      <td>1.27</td>\n",
              "      <td>8.17</td>\n",
              "      <td>Medium</td>\n",
              "    </tr>\n",
              "    <tr>\n",
              "      <th>6</th>\n",
              "      <td>7.00</td>\n",
              "      <td>0.17</td>\n",
              "      <td>0.61</td>\n",
              "      <td>61.06</td>\n",
              "      <td>449.38</td>\n",
              "      <td>5.147</td>\n",
              "      <td>15.66</td>\n",
              "      <td>19.62</td>\n",
              "      <td>1.39</td>\n",
              "      <td>4.21</td>\n",
              "      <td>Very High</td>\n",
              "    </tr>\n",
              "    <tr>\n",
              "      <th>7</th>\n",
              "      <td>6.30</td>\n",
              "      <td>0.08</td>\n",
              "      <td>0.92</td>\n",
              "      <td>17.05</td>\n",
              "      <td>208.43</td>\n",
              "      <td>2.807</td>\n",
              "      <td>22.55</td>\n",
              "      <td>110.42</td>\n",
              "      <td>1.57</td>\n",
              "      <td>7.48</td>\n",
              "      <td>High</td>\n",
              "    </tr>\n",
              "    <tr>\n",
              "      <th>8</th>\n",
              "      <td>7.35</td>\n",
              "      <td>0.11</td>\n",
              "      <td>0.66</td>\n",
              "      <td>20.94</td>\n",
              "      <td>402.36</td>\n",
              "      <td>3.275</td>\n",
              "      <td>13.87</td>\n",
              "      <td>74.64</td>\n",
              "      <td>1.90</td>\n",
              "      <td>7.00</td>\n",
              "      <td>Very High</td>\n",
              "    </tr>\n",
              "    <tr>\n",
              "      <th>9</th>\n",
              "      <td>6.60</td>\n",
              "      <td>0.59</td>\n",
              "      <td>0.83</td>\n",
              "      <td>10.85</td>\n",
              "      <td>177.40</td>\n",
              "      <td>24.797</td>\n",
              "      <td>10.47</td>\n",
              "      <td>9.58</td>\n",
              "      <td>1.39</td>\n",
              "      <td>2.45</td>\n",
              "      <td>Medium</td>\n",
              "    </tr>\n",
              "    <tr>\n",
              "      <th>10</th>\n",
              "      <td>6.65</td>\n",
              "      <td>0.11</td>\n",
              "      <td>1.16</td>\n",
              "      <td>33.55</td>\n",
              "      <td>123.87</td>\n",
              "      <td>4.211</td>\n",
              "      <td>11.32</td>\n",
              "      <td>22.32</td>\n",
              "      <td>1.46</td>\n",
              "      <td>2.13</td>\n",
              "      <td>Low</td>\n",
              "    </tr>\n",
              "    <tr>\n",
              "      <th>11</th>\n",
              "      <td>7.10</td>\n",
              "      <td>0.06</td>\n",
              "      <td>0.41</td>\n",
              "      <td>13.17</td>\n",
              "      <td>146.63</td>\n",
              "      <td>4.679</td>\n",
              "      <td>15.38</td>\n",
              "      <td>22.46</td>\n",
              "      <td>1.13</td>\n",
              "      <td>4.27</td>\n",
              "      <td>Low</td>\n",
              "    </tr>\n",
              "    <tr>\n",
              "      <th>12</th>\n",
              "      <td>7.15</td>\n",
              "      <td>0.24</td>\n",
              "      <td>2.97</td>\n",
              "      <td>88.75</td>\n",
              "      <td>311.02</td>\n",
              "      <td>7.954</td>\n",
              "      <td>32.45</td>\n",
              "      <td>11.15</td>\n",
              "      <td>6.09</td>\n",
              "      <td>3.14</td>\n",
              "      <td>Very High</td>\n",
              "    </tr>\n",
              "    <tr>\n",
              "      <th>13</th>\n",
              "      <td>8.10</td>\n",
              "      <td>0.10</td>\n",
              "      <td>0.84</td>\n",
              "      <td>26.43</td>\n",
              "      <td>529.07</td>\n",
              "      <td>1.404</td>\n",
              "      <td>3.77</td>\n",
              "      <td>5.04</td>\n",
              "      <td>0.89</td>\n",
              "      <td>0.52</td>\n",
              "      <td>Very High</td>\n",
              "    </tr>\n",
              "    <tr>\n",
              "      <th>14</th>\n",
              "      <td>7.45</td>\n",
              "      <td>0.10</td>\n",
              "      <td>0.46</td>\n",
              "      <td>416.26</td>\n",
              "      <td>188.10</td>\n",
              "      <td>10.293</td>\n",
              "      <td>16.42</td>\n",
              "      <td>14.87</td>\n",
              "      <td>2.21</td>\n",
              "      <td>4.21</td>\n",
              "      <td>Medium</td>\n",
              "    </tr>\n",
              "    <tr>\n",
              "      <th>15</th>\n",
              "      <td>7.25</td>\n",
              "      <td>0.08</td>\n",
              "      <td>1.03</td>\n",
              "      <td>12.40</td>\n",
              "      <td>236.48</td>\n",
              "      <td>5.147</td>\n",
              "      <td>12.83</td>\n",
              "      <td>63.76</td>\n",
              "      <td>6.63</td>\n",
              "      <td>3.87</td>\n",
              "      <td>High</td>\n",
              "    </tr>\n",
              "  </tbody>\n",
              "</table>\n",
              "</div>\n",
              "      <button class=\"colab-df-convert\" onclick=\"convertToInteractive('df-586619eb-3235-4e4f-a226-2873a927cfc5')\"\n",
              "              title=\"Convert this dataframe to an interactive table.\"\n",
              "              style=\"display:none;\">\n",
              "        \n",
              "  <svg xmlns=\"http://www.w3.org/2000/svg\" height=\"24px\"viewBox=\"0 0 24 24\"\n",
              "       width=\"24px\">\n",
              "    <path d=\"M0 0h24v24H0V0z\" fill=\"none\"/>\n",
              "    <path d=\"M18.56 5.44l.94 2.06.94-2.06 2.06-.94-2.06-.94-.94-2.06-.94 2.06-2.06.94zm-11 1L8.5 8.5l.94-2.06 2.06-.94-2.06-.94L8.5 2.5l-.94 2.06-2.06.94zm10 10l.94 2.06.94-2.06 2.06-.94-2.06-.94-.94-2.06-.94 2.06-2.06.94z\"/><path d=\"M17.41 7.96l-1.37-1.37c-.4-.4-.92-.59-1.43-.59-.52 0-1.04.2-1.43.59L10.3 9.45l-7.72 7.72c-.78.78-.78 2.05 0 2.83L4 21.41c.39.39.9.59 1.41.59.51 0 1.02-.2 1.41-.59l7.78-7.78 2.81-2.81c.8-.78.8-2.07 0-2.86zM5.41 20L4 18.59l7.72-7.72 1.47 1.35L5.41 20z\"/>\n",
              "  </svg>\n",
              "      </button>\n",
              "      \n",
              "  <style>\n",
              "    .colab-df-container {\n",
              "      display:flex;\n",
              "      flex-wrap:wrap;\n",
              "      gap: 12px;\n",
              "    }\n",
              "\n",
              "    .colab-df-convert {\n",
              "      background-color: #E8F0FE;\n",
              "      border: none;\n",
              "      border-radius: 50%;\n",
              "      cursor: pointer;\n",
              "      display: none;\n",
              "      fill: #1967D2;\n",
              "      height: 32px;\n",
              "      padding: 0 0 0 0;\n",
              "      width: 32px;\n",
              "    }\n",
              "\n",
              "    .colab-df-convert:hover {\n",
              "      background-color: #E2EBFA;\n",
              "      box-shadow: 0px 1px 2px rgba(60, 64, 67, 0.3), 0px 1px 3px 1px rgba(60, 64, 67, 0.15);\n",
              "      fill: #174EA6;\n",
              "    }\n",
              "\n",
              "    [theme=dark] .colab-df-convert {\n",
              "      background-color: #3B4455;\n",
              "      fill: #D2E3FC;\n",
              "    }\n",
              "\n",
              "    [theme=dark] .colab-df-convert:hover {\n",
              "      background-color: #434B5C;\n",
              "      box-shadow: 0px 1px 3px 1px rgba(0, 0, 0, 0.15);\n",
              "      filter: drop-shadow(0px 1px 2px rgba(0, 0, 0, 0.3));\n",
              "      fill: #FFFFFF;\n",
              "    }\n",
              "  </style>\n",
              "\n",
              "      <script>\n",
              "        const buttonEl =\n",
              "          document.querySelector('#df-586619eb-3235-4e4f-a226-2873a927cfc5 button.colab-df-convert');\n",
              "        buttonEl.style.display =\n",
              "          google.colab.kernel.accessAllowed ? 'block' : 'none';\n",
              "\n",
              "        async function convertToInteractive(key) {\n",
              "          const element = document.querySelector('#df-586619eb-3235-4e4f-a226-2873a927cfc5');\n",
              "          const dataTable =\n",
              "            await google.colab.kernel.invokeFunction('convertToInteractive',\n",
              "                                                     [key], {});\n",
              "          if (!dataTable) return;\n",
              "\n",
              "          const docLinkHtml = 'Like what you see? Visit the ' +\n",
              "            '<a target=\"_blank\" href=https://colab.research.google.com/notebooks/data_table.ipynb>data table notebook</a>'\n",
              "            + ' to learn more about interactive tables.';\n",
              "          element.innerHTML = '';\n",
              "          dataTable['output_type'] = 'display_data';\n",
              "          await google.colab.output.renderOutput(dataTable, element);\n",
              "          const docLink = document.createElement('div');\n",
              "          docLink.innerHTML = docLinkHtml;\n",
              "          element.appendChild(docLink);\n",
              "        }\n",
              "      </script>\n",
              "    </div>\n",
              "  </div>\n",
              "  "
            ],
            "text/plain": [
              "   pH (1:2.5) EC dS/m (1:2.5)   OC% P2O5 (kg/ha) K2O (kg/ha) S (ppm) Fe (ppm)  \\\n",
              "1        6.16            0.14  1.68        29.59      536.25   6.550    18.77   \n",
              "2        7.28            0.07  0.83        55.31      156.80   5.147    13.49   \n",
              "3        6.20            1.13  0.55        36.74      100.28   9.357    15.28   \n",
              "4        6.85            0.15  1.01        85.34      332.43   5.147    19.25   \n",
              "5        6.26            0.27  1.36         4.71      151.24   7.486    22.27   \n",
              "6        7.00            0.17  0.61        61.06      449.38   5.147    15.66   \n",
              "7        6.30            0.08  0.92        17.05      208.43   2.807    22.55   \n",
              "8        7.35            0.11  0.66        20.94      402.36   3.275    13.87   \n",
              "9        6.60            0.59  0.83        10.85      177.40  24.797    10.47   \n",
              "10       6.65            0.11  1.16        33.55      123.87   4.211    11.32   \n",
              "11       7.10            0.06  0.41        13.17      146.63   4.679    15.38   \n",
              "12       7.15            0.24  2.97        88.75      311.02   7.954    32.45   \n",
              "13       8.10            0.10  0.84        26.43      529.07   1.404     3.77   \n",
              "14       7.45            0.10  0.46       416.26      188.10  10.293    16.42   \n",
              "15       7.25            0.08  1.03        12.40      236.48   5.147    12.83   \n",
              "\n",
              "   Mn (ppm) Zn (ppm) Cu (ppm)     rating  \n",
              "1     61.70     2.33     6.46  Very High  \n",
              "2     21.60     1.15     3.14     Medium  \n",
              "3     38.06     0.99     5.82        Low  \n",
              "4     43.78     1.43     4.16  Very High  \n",
              "5     70.48     1.27     8.17     Medium  \n",
              "6     19.62     1.39     4.21  Very High  \n",
              "7    110.42     1.57     7.48       High  \n",
              "8     74.64     1.90     7.00  Very High  \n",
              "9      9.58     1.39     2.45     Medium  \n",
              "10    22.32     1.46     2.13        Low  \n",
              "11    22.46     1.13     4.27        Low  \n",
              "12    11.15     6.09     3.14  Very High  \n",
              "13     5.04     0.89     0.52  Very High  \n",
              "14    14.87     2.21     4.21     Medium  \n",
              "15    63.76     6.63     3.87       High  "
            ]
          },
          "execution_count": 54,
          "metadata": {},
          "output_type": "execute_result"
        }
      ],
      "source": [
        "df.head(15)"
      ]
    },
    {
      "cell_type": "code",
      "execution_count": null,
      "metadata": {
        "colab": {
          "base_uri": "https://localhost:8080/"
        },
        "id": "-pHDGT9mbeaG",
        "outputId": "ccfabc80-ad91-41e9-9075-4b02096d47fe"
      },
      "outputs": [
        {
          "data": {
            "text/plain": [
              "array(['Very High', 'Medium', 'Low', 'High', 'Very Low'], dtype=object)"
            ]
          },
          "execution_count": 55,
          "metadata": {},
          "output_type": "execute_result"
        }
      ],
      "source": [
        "df['rating'].unique()"
      ]
    },
    {
      "cell_type": "code",
      "execution_count": null,
      "metadata": {
        "id": "s8X2NGf9a3lH"
      },
      "outputs": [],
      "source": [
        "from sklearn.preprocessing import LabelEncoder\n",
        "la = LabelEncoder()"
      ]
    },
    {
      "cell_type": "code",
      "execution_count": null,
      "metadata": {
        "id": "4XZA26Y5bPor"
      },
      "outputs": [],
      "source": [
        "df['rating'] = la.fit_transform(df.rating)"
      ]
    },
    {
      "cell_type": "code",
      "execution_count": null,
      "metadata": {
        "colab": {
          "base_uri": "https://localhost:8080/",
          "height": 564
        },
        "id": "Oanac7TRbY0O",
        "outputId": "6de36c97-7a87-4a2f-b71c-38255fde223a"
      },
      "outputs": [
        {
          "data": {
            "text/html": [
              "\n",
              "  <div id=\"df-27654bfa-0909-438f-974b-6e78badea9b6\">\n",
              "    <div class=\"colab-df-container\">\n",
              "      <div>\n",
              "<style scoped>\n",
              "    .dataframe tbody tr th:only-of-type {\n",
              "        vertical-align: middle;\n",
              "    }\n",
              "\n",
              "    .dataframe tbody tr th {\n",
              "        vertical-align: top;\n",
              "    }\n",
              "\n",
              "    .dataframe thead th {\n",
              "        text-align: right;\n",
              "    }\n",
              "</style>\n",
              "<table border=\"1\" class=\"dataframe\">\n",
              "  <thead>\n",
              "    <tr style=\"text-align: right;\">\n",
              "      <th></th>\n",
              "      <th>pH (1:2.5)</th>\n",
              "      <th>EC dS/m (1:2.5)</th>\n",
              "      <th>OC%</th>\n",
              "      <th>P2O5 (kg/ha)</th>\n",
              "      <th>K2O (kg/ha)</th>\n",
              "      <th>S (ppm)</th>\n",
              "      <th>Fe (ppm)</th>\n",
              "      <th>Mn (ppm)</th>\n",
              "      <th>Zn (ppm)</th>\n",
              "      <th>Cu (ppm)</th>\n",
              "      <th>rating</th>\n",
              "    </tr>\n",
              "  </thead>\n",
              "  <tbody>\n",
              "    <tr>\n",
              "      <th>1</th>\n",
              "      <td>6.16</td>\n",
              "      <td>0.14</td>\n",
              "      <td>1.68</td>\n",
              "      <td>29.59</td>\n",
              "      <td>536.25</td>\n",
              "      <td>6.550</td>\n",
              "      <td>18.77</td>\n",
              "      <td>61.70</td>\n",
              "      <td>2.33</td>\n",
              "      <td>6.46</td>\n",
              "      <td>3</td>\n",
              "    </tr>\n",
              "    <tr>\n",
              "      <th>2</th>\n",
              "      <td>7.28</td>\n",
              "      <td>0.07</td>\n",
              "      <td>0.83</td>\n",
              "      <td>55.31</td>\n",
              "      <td>156.80</td>\n",
              "      <td>5.147</td>\n",
              "      <td>13.49</td>\n",
              "      <td>21.60</td>\n",
              "      <td>1.15</td>\n",
              "      <td>3.14</td>\n",
              "      <td>2</td>\n",
              "    </tr>\n",
              "    <tr>\n",
              "      <th>3</th>\n",
              "      <td>6.20</td>\n",
              "      <td>1.13</td>\n",
              "      <td>0.55</td>\n",
              "      <td>36.74</td>\n",
              "      <td>100.28</td>\n",
              "      <td>9.357</td>\n",
              "      <td>15.28</td>\n",
              "      <td>38.06</td>\n",
              "      <td>0.99</td>\n",
              "      <td>5.82</td>\n",
              "      <td>1</td>\n",
              "    </tr>\n",
              "    <tr>\n",
              "      <th>4</th>\n",
              "      <td>6.85</td>\n",
              "      <td>0.15</td>\n",
              "      <td>1.01</td>\n",
              "      <td>85.34</td>\n",
              "      <td>332.43</td>\n",
              "      <td>5.147</td>\n",
              "      <td>19.25</td>\n",
              "      <td>43.78</td>\n",
              "      <td>1.43</td>\n",
              "      <td>4.16</td>\n",
              "      <td>3</td>\n",
              "    </tr>\n",
              "    <tr>\n",
              "      <th>5</th>\n",
              "      <td>6.26</td>\n",
              "      <td>0.27</td>\n",
              "      <td>1.36</td>\n",
              "      <td>4.71</td>\n",
              "      <td>151.24</td>\n",
              "      <td>7.486</td>\n",
              "      <td>22.27</td>\n",
              "      <td>70.48</td>\n",
              "      <td>1.27</td>\n",
              "      <td>8.17</td>\n",
              "      <td>2</td>\n",
              "    </tr>\n",
              "    <tr>\n",
              "      <th>6</th>\n",
              "      <td>7.00</td>\n",
              "      <td>0.17</td>\n",
              "      <td>0.61</td>\n",
              "      <td>61.06</td>\n",
              "      <td>449.38</td>\n",
              "      <td>5.147</td>\n",
              "      <td>15.66</td>\n",
              "      <td>19.62</td>\n",
              "      <td>1.39</td>\n",
              "      <td>4.21</td>\n",
              "      <td>3</td>\n",
              "    </tr>\n",
              "    <tr>\n",
              "      <th>7</th>\n",
              "      <td>6.30</td>\n",
              "      <td>0.08</td>\n",
              "      <td>0.92</td>\n",
              "      <td>17.05</td>\n",
              "      <td>208.43</td>\n",
              "      <td>2.807</td>\n",
              "      <td>22.55</td>\n",
              "      <td>110.42</td>\n",
              "      <td>1.57</td>\n",
              "      <td>7.48</td>\n",
              "      <td>0</td>\n",
              "    </tr>\n",
              "    <tr>\n",
              "      <th>8</th>\n",
              "      <td>7.35</td>\n",
              "      <td>0.11</td>\n",
              "      <td>0.66</td>\n",
              "      <td>20.94</td>\n",
              "      <td>402.36</td>\n",
              "      <td>3.275</td>\n",
              "      <td>13.87</td>\n",
              "      <td>74.64</td>\n",
              "      <td>1.90</td>\n",
              "      <td>7.00</td>\n",
              "      <td>3</td>\n",
              "    </tr>\n",
              "    <tr>\n",
              "      <th>9</th>\n",
              "      <td>6.60</td>\n",
              "      <td>0.59</td>\n",
              "      <td>0.83</td>\n",
              "      <td>10.85</td>\n",
              "      <td>177.40</td>\n",
              "      <td>24.797</td>\n",
              "      <td>10.47</td>\n",
              "      <td>9.58</td>\n",
              "      <td>1.39</td>\n",
              "      <td>2.45</td>\n",
              "      <td>2</td>\n",
              "    </tr>\n",
              "    <tr>\n",
              "      <th>10</th>\n",
              "      <td>6.65</td>\n",
              "      <td>0.11</td>\n",
              "      <td>1.16</td>\n",
              "      <td>33.55</td>\n",
              "      <td>123.87</td>\n",
              "      <td>4.211</td>\n",
              "      <td>11.32</td>\n",
              "      <td>22.32</td>\n",
              "      <td>1.46</td>\n",
              "      <td>2.13</td>\n",
              "      <td>1</td>\n",
              "    </tr>\n",
              "    <tr>\n",
              "      <th>11</th>\n",
              "      <td>7.10</td>\n",
              "      <td>0.06</td>\n",
              "      <td>0.41</td>\n",
              "      <td>13.17</td>\n",
              "      <td>146.63</td>\n",
              "      <td>4.679</td>\n",
              "      <td>15.38</td>\n",
              "      <td>22.46</td>\n",
              "      <td>1.13</td>\n",
              "      <td>4.27</td>\n",
              "      <td>1</td>\n",
              "    </tr>\n",
              "    <tr>\n",
              "      <th>12</th>\n",
              "      <td>7.15</td>\n",
              "      <td>0.24</td>\n",
              "      <td>2.97</td>\n",
              "      <td>88.75</td>\n",
              "      <td>311.02</td>\n",
              "      <td>7.954</td>\n",
              "      <td>32.45</td>\n",
              "      <td>11.15</td>\n",
              "      <td>6.09</td>\n",
              "      <td>3.14</td>\n",
              "      <td>3</td>\n",
              "    </tr>\n",
              "    <tr>\n",
              "      <th>13</th>\n",
              "      <td>8.10</td>\n",
              "      <td>0.10</td>\n",
              "      <td>0.84</td>\n",
              "      <td>26.43</td>\n",
              "      <td>529.07</td>\n",
              "      <td>1.404</td>\n",
              "      <td>3.77</td>\n",
              "      <td>5.04</td>\n",
              "      <td>0.89</td>\n",
              "      <td>0.52</td>\n",
              "      <td>3</td>\n",
              "    </tr>\n",
              "    <tr>\n",
              "      <th>14</th>\n",
              "      <td>7.45</td>\n",
              "      <td>0.10</td>\n",
              "      <td>0.46</td>\n",
              "      <td>416.26</td>\n",
              "      <td>188.10</td>\n",
              "      <td>10.293</td>\n",
              "      <td>16.42</td>\n",
              "      <td>14.87</td>\n",
              "      <td>2.21</td>\n",
              "      <td>4.21</td>\n",
              "      <td>2</td>\n",
              "    </tr>\n",
              "    <tr>\n",
              "      <th>15</th>\n",
              "      <td>7.25</td>\n",
              "      <td>0.08</td>\n",
              "      <td>1.03</td>\n",
              "      <td>12.40</td>\n",
              "      <td>236.48</td>\n",
              "      <td>5.147</td>\n",
              "      <td>12.83</td>\n",
              "      <td>63.76</td>\n",
              "      <td>6.63</td>\n",
              "      <td>3.87</td>\n",
              "      <td>0</td>\n",
              "    </tr>\n",
              "  </tbody>\n",
              "</table>\n",
              "</div>\n",
              "      <button class=\"colab-df-convert\" onclick=\"convertToInteractive('df-27654bfa-0909-438f-974b-6e78badea9b6')\"\n",
              "              title=\"Convert this dataframe to an interactive table.\"\n",
              "              style=\"display:none;\">\n",
              "        \n",
              "  <svg xmlns=\"http://www.w3.org/2000/svg\" height=\"24px\"viewBox=\"0 0 24 24\"\n",
              "       width=\"24px\">\n",
              "    <path d=\"M0 0h24v24H0V0z\" fill=\"none\"/>\n",
              "    <path d=\"M18.56 5.44l.94 2.06.94-2.06 2.06-.94-2.06-.94-.94-2.06-.94 2.06-2.06.94zm-11 1L8.5 8.5l.94-2.06 2.06-.94-2.06-.94L8.5 2.5l-.94 2.06-2.06.94zm10 10l.94 2.06.94-2.06 2.06-.94-2.06-.94-.94-2.06-.94 2.06-2.06.94z\"/><path d=\"M17.41 7.96l-1.37-1.37c-.4-.4-.92-.59-1.43-.59-.52 0-1.04.2-1.43.59L10.3 9.45l-7.72 7.72c-.78.78-.78 2.05 0 2.83L4 21.41c.39.39.9.59 1.41.59.51 0 1.02-.2 1.41-.59l7.78-7.78 2.81-2.81c.8-.78.8-2.07 0-2.86zM5.41 20L4 18.59l7.72-7.72 1.47 1.35L5.41 20z\"/>\n",
              "  </svg>\n",
              "      </button>\n",
              "      \n",
              "  <style>\n",
              "    .colab-df-container {\n",
              "      display:flex;\n",
              "      flex-wrap:wrap;\n",
              "      gap: 12px;\n",
              "    }\n",
              "\n",
              "    .colab-df-convert {\n",
              "      background-color: #E8F0FE;\n",
              "      border: none;\n",
              "      border-radius: 50%;\n",
              "      cursor: pointer;\n",
              "      display: none;\n",
              "      fill: #1967D2;\n",
              "      height: 32px;\n",
              "      padding: 0 0 0 0;\n",
              "      width: 32px;\n",
              "    }\n",
              "\n",
              "    .colab-df-convert:hover {\n",
              "      background-color: #E2EBFA;\n",
              "      box-shadow: 0px 1px 2px rgba(60, 64, 67, 0.3), 0px 1px 3px 1px rgba(60, 64, 67, 0.15);\n",
              "      fill: #174EA6;\n",
              "    }\n",
              "\n",
              "    [theme=dark] .colab-df-convert {\n",
              "      background-color: #3B4455;\n",
              "      fill: #D2E3FC;\n",
              "    }\n",
              "\n",
              "    [theme=dark] .colab-df-convert:hover {\n",
              "      background-color: #434B5C;\n",
              "      box-shadow: 0px 1px 3px 1px rgba(0, 0, 0, 0.15);\n",
              "      filter: drop-shadow(0px 1px 2px rgba(0, 0, 0, 0.3));\n",
              "      fill: #FFFFFF;\n",
              "    }\n",
              "  </style>\n",
              "\n",
              "      <script>\n",
              "        const buttonEl =\n",
              "          document.querySelector('#df-27654bfa-0909-438f-974b-6e78badea9b6 button.colab-df-convert');\n",
              "        buttonEl.style.display =\n",
              "          google.colab.kernel.accessAllowed ? 'block' : 'none';\n",
              "\n",
              "        async function convertToInteractive(key) {\n",
              "          const element = document.querySelector('#df-27654bfa-0909-438f-974b-6e78badea9b6');\n",
              "          const dataTable =\n",
              "            await google.colab.kernel.invokeFunction('convertToInteractive',\n",
              "                                                     [key], {});\n",
              "          if (!dataTable) return;\n",
              "\n",
              "          const docLinkHtml = 'Like what you see? Visit the ' +\n",
              "            '<a target=\"_blank\" href=https://colab.research.google.com/notebooks/data_table.ipynb>data table notebook</a>'\n",
              "            + ' to learn more about interactive tables.';\n",
              "          element.innerHTML = '';\n",
              "          dataTable['output_type'] = 'display_data';\n",
              "          await google.colab.output.renderOutput(dataTable, element);\n",
              "          const docLink = document.createElement('div');\n",
              "          docLink.innerHTML = docLinkHtml;\n",
              "          element.appendChild(docLink);\n",
              "        }\n",
              "      </script>\n",
              "    </div>\n",
              "  </div>\n",
              "  "
            ],
            "text/plain": [
              "   pH (1:2.5) EC dS/m (1:2.5)   OC% P2O5 (kg/ha) K2O (kg/ha) S (ppm) Fe (ppm)  \\\n",
              "1        6.16            0.14  1.68        29.59      536.25   6.550    18.77   \n",
              "2        7.28            0.07  0.83        55.31      156.80   5.147    13.49   \n",
              "3        6.20            1.13  0.55        36.74      100.28   9.357    15.28   \n",
              "4        6.85            0.15  1.01        85.34      332.43   5.147    19.25   \n",
              "5        6.26            0.27  1.36         4.71      151.24   7.486    22.27   \n",
              "6        7.00            0.17  0.61        61.06      449.38   5.147    15.66   \n",
              "7        6.30            0.08  0.92        17.05      208.43   2.807    22.55   \n",
              "8        7.35            0.11  0.66        20.94      402.36   3.275    13.87   \n",
              "9        6.60            0.59  0.83        10.85      177.40  24.797    10.47   \n",
              "10       6.65            0.11  1.16        33.55      123.87   4.211    11.32   \n",
              "11       7.10            0.06  0.41        13.17      146.63   4.679    15.38   \n",
              "12       7.15            0.24  2.97        88.75      311.02   7.954    32.45   \n",
              "13       8.10            0.10  0.84        26.43      529.07   1.404     3.77   \n",
              "14       7.45            0.10  0.46       416.26      188.10  10.293    16.42   \n",
              "15       7.25            0.08  1.03        12.40      236.48   5.147    12.83   \n",
              "\n",
              "   Mn (ppm) Zn (ppm) Cu (ppm)  rating  \n",
              "1     61.70     2.33     6.46       3  \n",
              "2     21.60     1.15     3.14       2  \n",
              "3     38.06     0.99     5.82       1  \n",
              "4     43.78     1.43     4.16       3  \n",
              "5     70.48     1.27     8.17       2  \n",
              "6     19.62     1.39     4.21       3  \n",
              "7    110.42     1.57     7.48       0  \n",
              "8     74.64     1.90     7.00       3  \n",
              "9      9.58     1.39     2.45       2  \n",
              "10    22.32     1.46     2.13       1  \n",
              "11    22.46     1.13     4.27       1  \n",
              "12    11.15     6.09     3.14       3  \n",
              "13     5.04     0.89     0.52       3  \n",
              "14    14.87     2.21     4.21       2  \n",
              "15    63.76     6.63     3.87       0  "
            ]
          },
          "execution_count": 58,
          "metadata": {},
          "output_type": "execute_result"
        }
      ],
      "source": [
        "df.head(15)"
      ]
    },
    {
      "cell_type": "code",
      "execution_count": null,
      "metadata": {
        "colab": {
          "base_uri": "https://localhost:8080/"
        },
        "id": "niRmmU67wVD7",
        "outputId": "5dcb5eaf-9ca1-49a8-c6cd-42d82f1e1d11"
      },
      "outputs": [
        {
          "data": {
            "text/plain": [
              "(255, 11)"
            ]
          },
          "execution_count": 59,
          "metadata": {},
          "output_type": "execute_result"
        }
      ],
      "source": [
        "df.shape"
      ]
    },
    {
      "cell_type": "code",
      "execution_count": null,
      "metadata": {
        "colab": {
          "base_uri": "https://localhost:8080/"
        },
        "id": "1KAY3YqJeC0y",
        "outputId": "2c3ccea1-19b3-43db-de37-6d0e137fa2ac"
      },
      "outputs": [
        {
          "data": {
            "text/plain": [
              "array([3, 2, 1, 0, 4])"
            ]
          },
          "execution_count": 60,
          "metadata": {},
          "output_type": "execute_result"
        }
      ],
      "source": [
        "df['rating'].unique()"
      ]
    },
    {
      "cell_type": "code",
      "execution_count": null,
      "metadata": {
        "id": "pBRV27UenoFf"
      },
      "outputs": [],
      "source": [
        "# df[\"Cu (ppm)\"] = df[\"Cu (ppm)\"].astype(float)"
      ]
    },
    {
      "cell_type": "code",
      "execution_count": null,
      "metadata": {
        "id": "U55DSqRkdGTY"
      },
      "outputs": [],
      "source": [
        "for i in df.columns:\n",
        "    cnt=0\n",
        "    # print(i)\n",
        "    for j in df[i]:\n",
        "        # print(j)\n",
        "        if j == 'ND' or j =='-':\n",
        "            df.drop(df.index[cnt],inplace=True)\n",
        "            cnt-=1\n",
        "            # break\n",
        "        cnt+=1"
      ]
    },
    {
      "cell_type": "code",
      "execution_count": null,
      "metadata": {
        "colab": {
          "base_uri": "https://localhost:8080/",
          "height": 424
        },
        "id": "4TmY_vpMeHLt",
        "outputId": "7e48d017-0d15-4b17-cbf8-668570a7d2e2"
      },
      "outputs": [
        {
          "data": {
            "text/html": [
              "\n",
              "  <div id=\"df-6b0691a8-8b6d-46e4-b78f-3c8993a66382\">\n",
              "    <div class=\"colab-df-container\">\n",
              "      <div>\n",
              "<style scoped>\n",
              "    .dataframe tbody tr th:only-of-type {\n",
              "        vertical-align: middle;\n",
              "    }\n",
              "\n",
              "    .dataframe tbody tr th {\n",
              "        vertical-align: top;\n",
              "    }\n",
              "\n",
              "    .dataframe thead th {\n",
              "        text-align: right;\n",
              "    }\n",
              "</style>\n",
              "<table border=\"1\" class=\"dataframe\">\n",
              "  <thead>\n",
              "    <tr style=\"text-align: right;\">\n",
              "      <th></th>\n",
              "      <th>pH (1:2.5)</th>\n",
              "      <th>EC dS/m (1:2.5)</th>\n",
              "      <th>OC%</th>\n",
              "      <th>P2O5 (kg/ha)</th>\n",
              "      <th>K2O (kg/ha)</th>\n",
              "      <th>S (ppm)</th>\n",
              "      <th>Fe (ppm)</th>\n",
              "      <th>Mn (ppm)</th>\n",
              "      <th>Zn (ppm)</th>\n",
              "      <th>Cu (ppm)</th>\n",
              "    </tr>\n",
              "  </thead>\n",
              "  <tbody>\n",
              "    <tr>\n",
              "      <th>1</th>\n",
              "      <td>6.16</td>\n",
              "      <td>0.14</td>\n",
              "      <td>1.68</td>\n",
              "      <td>29.59</td>\n",
              "      <td>536.25</td>\n",
              "      <td>6.550</td>\n",
              "      <td>18.77</td>\n",
              "      <td>61.70</td>\n",
              "      <td>2.33</td>\n",
              "      <td>6.46</td>\n",
              "    </tr>\n",
              "    <tr>\n",
              "      <th>2</th>\n",
              "      <td>7.28</td>\n",
              "      <td>0.07</td>\n",
              "      <td>0.83</td>\n",
              "      <td>55.31</td>\n",
              "      <td>156.80</td>\n",
              "      <td>5.147</td>\n",
              "      <td>13.49</td>\n",
              "      <td>21.60</td>\n",
              "      <td>1.15</td>\n",
              "      <td>3.14</td>\n",
              "    </tr>\n",
              "    <tr>\n",
              "      <th>3</th>\n",
              "      <td>6.20</td>\n",
              "      <td>1.13</td>\n",
              "      <td>0.55</td>\n",
              "      <td>36.74</td>\n",
              "      <td>100.28</td>\n",
              "      <td>9.357</td>\n",
              "      <td>15.28</td>\n",
              "      <td>38.06</td>\n",
              "      <td>0.99</td>\n",
              "      <td>5.82</td>\n",
              "    </tr>\n",
              "    <tr>\n",
              "      <th>4</th>\n",
              "      <td>6.85</td>\n",
              "      <td>0.15</td>\n",
              "      <td>1.01</td>\n",
              "      <td>85.34</td>\n",
              "      <td>332.43</td>\n",
              "      <td>5.147</td>\n",
              "      <td>19.25</td>\n",
              "      <td>43.78</td>\n",
              "      <td>1.43</td>\n",
              "      <td>4.16</td>\n",
              "    </tr>\n",
              "    <tr>\n",
              "      <th>5</th>\n",
              "      <td>6.26</td>\n",
              "      <td>0.27</td>\n",
              "      <td>1.36</td>\n",
              "      <td>4.71</td>\n",
              "      <td>151.24</td>\n",
              "      <td>7.486</td>\n",
              "      <td>22.27</td>\n",
              "      <td>70.48</td>\n",
              "      <td>1.27</td>\n",
              "      <td>8.17</td>\n",
              "    </tr>\n",
              "    <tr>\n",
              "      <th>...</th>\n",
              "      <td>...</td>\n",
              "      <td>...</td>\n",
              "      <td>...</td>\n",
              "      <td>...</td>\n",
              "      <td>...</td>\n",
              "      <td>...</td>\n",
              "      <td>...</td>\n",
              "      <td>...</td>\n",
              "      <td>...</td>\n",
              "      <td>...</td>\n",
              "    </tr>\n",
              "    <tr>\n",
              "      <th>251</th>\n",
              "      <td>7.3</td>\n",
              "      <td>0.127</td>\n",
              "      <td>0.69</td>\n",
              "      <td>76.64</td>\n",
              "      <td>199.49</td>\n",
              "      <td>1.871</td>\n",
              "      <td>22.27</td>\n",
              "      <td>5.04</td>\n",
              "      <td>0.26</td>\n",
              "      <td>2.29</td>\n",
              "    </tr>\n",
              "    <tr>\n",
              "      <th>252</th>\n",
              "      <td>6.75</td>\n",
              "      <td>0.068</td>\n",
              "      <td>0.50</td>\n",
              "      <td>45.29</td>\n",
              "      <td>165.33</td>\n",
              "      <td>5.147</td>\n",
              "      <td>22.27</td>\n",
              "      <td>5.04</td>\n",
              "      <td>0.26</td>\n",
              "      <td>2.29</td>\n",
              "    </tr>\n",
              "    <tr>\n",
              "      <th>253</th>\n",
              "      <td>7.4</td>\n",
              "      <td>0.348</td>\n",
              "      <td>1.39</td>\n",
              "      <td>714.12</td>\n",
              "      <td>1017.89</td>\n",
              "      <td>6.082</td>\n",
              "      <td>22.27</td>\n",
              "      <td>5.04</td>\n",
              "      <td>0.26</td>\n",
              "      <td>2.29</td>\n",
              "    </tr>\n",
              "    <tr>\n",
              "      <th>254</th>\n",
              "      <td>7.1</td>\n",
              "      <td>0.1</td>\n",
              "      <td>0.8</td>\n",
              "      <td>15.68</td>\n",
              "      <td>177.67</td>\n",
              "      <td>1.871</td>\n",
              "      <td>22.27</td>\n",
              "      <td>5.04</td>\n",
              "      <td>0.26</td>\n",
              "      <td>2.29</td>\n",
              "    </tr>\n",
              "    <tr>\n",
              "      <th>255</th>\n",
              "      <td>7.1</td>\n",
              "      <td>0.1</td>\n",
              "      <td>0.8</td>\n",
              "      <td>15.68</td>\n",
              "      <td>177.67</td>\n",
              "      <td>1.871</td>\n",
              "      <td>22.27</td>\n",
              "      <td>5.04</td>\n",
              "      <td>0.26</td>\n",
              "      <td>2.29</td>\n",
              "    </tr>\n",
              "  </tbody>\n",
              "</table>\n",
              "<p>242 rows × 10 columns</p>\n",
              "</div>\n",
              "      <button class=\"colab-df-convert\" onclick=\"convertToInteractive('df-6b0691a8-8b6d-46e4-b78f-3c8993a66382')\"\n",
              "              title=\"Convert this dataframe to an interactive table.\"\n",
              "              style=\"display:none;\">\n",
              "        \n",
              "  <svg xmlns=\"http://www.w3.org/2000/svg\" height=\"24px\"viewBox=\"0 0 24 24\"\n",
              "       width=\"24px\">\n",
              "    <path d=\"M0 0h24v24H0V0z\" fill=\"none\"/>\n",
              "    <path d=\"M18.56 5.44l.94 2.06.94-2.06 2.06-.94-2.06-.94-.94-2.06-.94 2.06-2.06.94zm-11 1L8.5 8.5l.94-2.06 2.06-.94-2.06-.94L8.5 2.5l-.94 2.06-2.06.94zm10 10l.94 2.06.94-2.06 2.06-.94-2.06-.94-.94-2.06-.94 2.06-2.06.94z\"/><path d=\"M17.41 7.96l-1.37-1.37c-.4-.4-.92-.59-1.43-.59-.52 0-1.04.2-1.43.59L10.3 9.45l-7.72 7.72c-.78.78-.78 2.05 0 2.83L4 21.41c.39.39.9.59 1.41.59.51 0 1.02-.2 1.41-.59l7.78-7.78 2.81-2.81c.8-.78.8-2.07 0-2.86zM5.41 20L4 18.59l7.72-7.72 1.47 1.35L5.41 20z\"/>\n",
              "  </svg>\n",
              "      </button>\n",
              "      \n",
              "  <style>\n",
              "    .colab-df-container {\n",
              "      display:flex;\n",
              "      flex-wrap:wrap;\n",
              "      gap: 12px;\n",
              "    }\n",
              "\n",
              "    .colab-df-convert {\n",
              "      background-color: #E8F0FE;\n",
              "      border: none;\n",
              "      border-radius: 50%;\n",
              "      cursor: pointer;\n",
              "      display: none;\n",
              "      fill: #1967D2;\n",
              "      height: 32px;\n",
              "      padding: 0 0 0 0;\n",
              "      width: 32px;\n",
              "    }\n",
              "\n",
              "    .colab-df-convert:hover {\n",
              "      background-color: #E2EBFA;\n",
              "      box-shadow: 0px 1px 2px rgba(60, 64, 67, 0.3), 0px 1px 3px 1px rgba(60, 64, 67, 0.15);\n",
              "      fill: #174EA6;\n",
              "    }\n",
              "\n",
              "    [theme=dark] .colab-df-convert {\n",
              "      background-color: #3B4455;\n",
              "      fill: #D2E3FC;\n",
              "    }\n",
              "\n",
              "    [theme=dark] .colab-df-convert:hover {\n",
              "      background-color: #434B5C;\n",
              "      box-shadow: 0px 1px 3px 1px rgba(0, 0, 0, 0.15);\n",
              "      filter: drop-shadow(0px 1px 2px rgba(0, 0, 0, 0.3));\n",
              "      fill: #FFFFFF;\n",
              "    }\n",
              "  </style>\n",
              "\n",
              "      <script>\n",
              "        const buttonEl =\n",
              "          document.querySelector('#df-6b0691a8-8b6d-46e4-b78f-3c8993a66382 button.colab-df-convert');\n",
              "        buttonEl.style.display =\n",
              "          google.colab.kernel.accessAllowed ? 'block' : 'none';\n",
              "\n",
              "        async function convertToInteractive(key) {\n",
              "          const element = document.querySelector('#df-6b0691a8-8b6d-46e4-b78f-3c8993a66382');\n",
              "          const dataTable =\n",
              "            await google.colab.kernel.invokeFunction('convertToInteractive',\n",
              "                                                     [key], {});\n",
              "          if (!dataTable) return;\n",
              "\n",
              "          const docLinkHtml = 'Like what you see? Visit the ' +\n",
              "            '<a target=\"_blank\" href=https://colab.research.google.com/notebooks/data_table.ipynb>data table notebook</a>'\n",
              "            + ' to learn more about interactive tables.';\n",
              "          element.innerHTML = '';\n",
              "          dataTable['output_type'] = 'display_data';\n",
              "          await google.colab.output.renderOutput(dataTable, element);\n",
              "          const docLink = document.createElement('div');\n",
              "          docLink.innerHTML = docLinkHtml;\n",
              "          element.appendChild(docLink);\n",
              "        }\n",
              "      </script>\n",
              "    </div>\n",
              "  </div>\n",
              "  "
            ],
            "text/plain": [
              "    pH (1:2.5) EC dS/m (1:2.5)   OC% P2O5 (kg/ha) K2O (kg/ha) S (ppm)  \\\n",
              "1         6.16            0.14  1.68        29.59      536.25   6.550   \n",
              "2         7.28            0.07  0.83        55.31      156.80   5.147   \n",
              "3         6.20            1.13  0.55        36.74      100.28   9.357   \n",
              "4         6.85            0.15  1.01        85.34      332.43   5.147   \n",
              "5         6.26            0.27  1.36         4.71      151.24   7.486   \n",
              "..         ...             ...   ...          ...         ...     ...   \n",
              "251        7.3           0.127  0.69        76.64      199.49   1.871   \n",
              "252       6.75           0.068  0.50        45.29      165.33   5.147   \n",
              "253        7.4           0.348  1.39       714.12     1017.89   6.082   \n",
              "254        7.1             0.1   0.8        15.68      177.67   1.871   \n",
              "255        7.1             0.1   0.8        15.68      177.67   1.871   \n",
              "\n",
              "    Fe (ppm) Mn (ppm) Zn (ppm) Cu (ppm)  \n",
              "1      18.77    61.70     2.33     6.46  \n",
              "2      13.49    21.60     1.15     3.14  \n",
              "3      15.28    38.06     0.99     5.82  \n",
              "4      19.25    43.78     1.43     4.16  \n",
              "5      22.27    70.48     1.27     8.17  \n",
              "..       ...      ...      ...      ...  \n",
              "251    22.27     5.04     0.26     2.29  \n",
              "252    22.27     5.04     0.26     2.29  \n",
              "253    22.27     5.04     0.26     2.29  \n",
              "254    22.27     5.04     0.26     2.29  \n",
              "255    22.27     5.04     0.26     2.29  \n",
              "\n",
              "[242 rows x 10 columns]"
            ]
          },
          "execution_count": 63,
          "metadata": {},
          "output_type": "execute_result"
        }
      ],
      "source": [
        "x = df.iloc[:,:-1]\n",
        "x"
      ]
    },
    {
      "cell_type": "code",
      "execution_count": null,
      "metadata": {
        "colab": {
          "base_uri": "https://localhost:8080/"
        },
        "id": "XysMSoROeM2A",
        "outputId": "393d9095-a3a3-4c05-8c3d-c5170b1e6d15"
      },
      "outputs": [
        {
          "data": {
            "text/plain": [
              "1      3\n",
              "2      2\n",
              "3      1\n",
              "4      3\n",
              "5      2\n",
              "      ..\n",
              "251    2\n",
              "252    2\n",
              "253    3\n",
              "254    4\n",
              "255    4\n",
              "Name: rating, Length: 242, dtype: int64"
            ]
          },
          "execution_count": 64,
          "metadata": {},
          "output_type": "execute_result"
        }
      ],
      "source": [
        "y = df.iloc[:,-1]\n",
        "y"
      ]
    },
    {
      "cell_type": "code",
      "execution_count": null,
      "metadata": {
        "id": "Al6i4cXmeVTX"
      },
      "outputs": [],
      "source": [
        "from sklearn.model_selection import train_test_split"
      ]
    },
    {
      "cell_type": "code",
      "execution_count": null,
      "metadata": {
        "id": "vpi3tQZueaVJ"
      },
      "outputs": [],
      "source": [
        "X_train, X_test, y_train, y_test = train_test_split(x, y, test_size=0.33, random_state=42)"
      ]
    },
    {
      "cell_type": "code",
      "execution_count": null,
      "metadata": {
        "id": "OtZkxgtuelGl"
      },
      "outputs": [],
      "source": [
        "from sklearn.preprocessing import StandardScaler"
      ]
    },
    {
      "cell_type": "code",
      "execution_count": null,
      "metadata": {
        "id": "nW0x0zYnm0Wp"
      },
      "outputs": [],
      "source": [
        "sc = StandardScaler()"
      ]
    },
    {
      "cell_type": "code",
      "execution_count": null,
      "metadata": {
        "id": "sDw8fEsNm62B"
      },
      "outputs": [],
      "source": [
        "scaled_Xtrain = sc.fit_transform(X_train)"
      ]
    },
    {
      "cell_type": "code",
      "execution_count": null,
      "metadata": {
        "id": "J2ZB0X4Re3dO"
      },
      "outputs": [],
      "source": [
        "from sklearn.model_selection import GridSearchCV"
      ]
    },
    {
      "cell_type": "code",
      "execution_count": null,
      "metadata": {
        "id": "UJSRzBeBe4z6"
      },
      "outputs": [],
      "source": [
        "n_estimators=[64,100,128,200]\n",
        "max_features= [2,3,4]\n",
        "bootstrap = [True,False]\n",
        "oob_score = [True,False]"
      ]
    },
    {
      "cell_type": "code",
      "execution_count": null,
      "metadata": {
        "id": "2TlGY31ne8f6"
      },
      "outputs": [],
      "source": [
        "param_grid = {'n_estimators':n_estimators,\n",
        "             'max_features':max_features,\n",
        "             'bootstrap':bootstrap,\n",
        "             'oob_score':oob_score} "
      ]
    },
    {
      "cell_type": "code",
      "execution_count": null,
      "metadata": {
        "id": "otFMSCScfAmP"
      },
      "outputs": [],
      "source": [
        "from sklearn.ensemble import RandomForestClassifier"
      ]
    },
    {
      "cell_type": "code",
      "execution_count": null,
      "metadata": {
        "id": "FCZzHdpBfPXS"
      },
      "outputs": [],
      "source": [
        "rfc = RandomForestClassifier()\n",
        "grid = GridSearchCV(rfc,param_grid)"
      ]
    },
    {
      "cell_type": "code",
      "execution_count": null,
      "metadata": {
        "colab": {
          "base_uri": "https://localhost:8080/",
          "height": 584
        },
        "id": "j9W56CRPfThK",
        "outputId": "65775be4-643f-4fbe-a7ca-7f24e3b9e9cb"
      },
      "outputs": [
        {
          "name": "stderr",
          "output_type": "stream",
          "text": [
            "/usr/local/lib/python3.8/dist-packages/sklearn/model_selection/_validation.py:378: FitFailedWarning: \n",
            "60 fits failed out of a total of 240.\n",
            "The score on these train-test partitions for these parameters will be set to nan.\n",
            "If these failures are not expected, you can try to debug them by setting error_score='raise'.\n",
            "\n",
            "Below are more details about the failures:\n",
            "--------------------------------------------------------------------------------\n",
            "60 fits failed with the following error:\n",
            "Traceback (most recent call last):\n",
            "  File \"/usr/local/lib/python3.8/dist-packages/sklearn/model_selection/_validation.py\", line 686, in _fit_and_score\n",
            "    estimator.fit(X_train, y_train, **fit_params)\n",
            "  File \"/usr/local/lib/python3.8/dist-packages/sklearn/ensemble/_forest.py\", line 434, in fit\n",
            "    raise ValueError(\"Out of bag estimation only available if bootstrap=True\")\n",
            "ValueError: Out of bag estimation only available if bootstrap=True\n",
            "\n",
            "  warnings.warn(some_fits_failed_message, FitFailedWarning)\n",
            "/usr/local/lib/python3.8/dist-packages/sklearn/model_selection/_search.py:952: UserWarning: One or more of the test scores are non-finite: [0.90757576 0.89488636 0.91382576 0.91325758 0.88863636 0.90113636\n",
            " 0.89507576 0.90738636 0.91382576 0.91969697 0.93825758 0.93806818\n",
            " 0.93825758 0.91969697 0.93219697 0.91969697 0.93825758 0.93219697\n",
            " 0.94469697 0.95643939 0.95662879 0.93844697 0.95681818 0.94431818\n",
            "        nan 0.90719697        nan 0.91969697        nan 0.90719697\n",
            "        nan 0.90738636        nan 0.93806818        nan 0.93787879\n",
            "        nan 0.92575758        nan 0.93787879        nan 0.95643939\n",
            "        nan 0.95037879        nan 0.95643939        nan 0.95056818]\n",
            "  warnings.warn(\n"
          ]
        },
        {
          "data": {
            "text/html": [
              "<style>#sk-container-id-1 {color: black;background-color: white;}#sk-container-id-1 pre{padding: 0;}#sk-container-id-1 div.sk-toggleable {background-color: white;}#sk-container-id-1 label.sk-toggleable__label {cursor: pointer;display: block;width: 100%;margin-bottom: 0;padding: 0.3em;box-sizing: border-box;text-align: center;}#sk-container-id-1 label.sk-toggleable__label-arrow:before {content: \"▸\";float: left;margin-right: 0.25em;color: #696969;}#sk-container-id-1 label.sk-toggleable__label-arrow:hover:before {color: black;}#sk-container-id-1 div.sk-estimator:hover label.sk-toggleable__label-arrow:before {color: black;}#sk-container-id-1 div.sk-toggleable__content {max-height: 0;max-width: 0;overflow: hidden;text-align: left;background-color: #f0f8ff;}#sk-container-id-1 div.sk-toggleable__content pre {margin: 0.2em;color: black;border-radius: 0.25em;background-color: #f0f8ff;}#sk-container-id-1 input.sk-toggleable__control:checked~div.sk-toggleable__content {max-height: 200px;max-width: 100%;overflow: auto;}#sk-container-id-1 input.sk-toggleable__control:checked~label.sk-toggleable__label-arrow:before {content: \"▾\";}#sk-container-id-1 div.sk-estimator input.sk-toggleable__control:checked~label.sk-toggleable__label {background-color: #d4ebff;}#sk-container-id-1 div.sk-label input.sk-toggleable__control:checked~label.sk-toggleable__label {background-color: #d4ebff;}#sk-container-id-1 input.sk-hidden--visually {border: 0;clip: rect(1px 1px 1px 1px);clip: rect(1px, 1px, 1px, 1px);height: 1px;margin: -1px;overflow: hidden;padding: 0;position: absolute;width: 1px;}#sk-container-id-1 div.sk-estimator {font-family: monospace;background-color: #f0f8ff;border: 1px dotted black;border-radius: 0.25em;box-sizing: border-box;margin-bottom: 0.5em;}#sk-container-id-1 div.sk-estimator:hover {background-color: #d4ebff;}#sk-container-id-1 div.sk-parallel-item::after {content: \"\";width: 100%;border-bottom: 1px solid gray;flex-grow: 1;}#sk-container-id-1 div.sk-label:hover label.sk-toggleable__label {background-color: #d4ebff;}#sk-container-id-1 div.sk-serial::before {content: \"\";position: absolute;border-left: 1px solid gray;box-sizing: border-box;top: 0;bottom: 0;left: 50%;z-index: 0;}#sk-container-id-1 div.sk-serial {display: flex;flex-direction: column;align-items: center;background-color: white;padding-right: 0.2em;padding-left: 0.2em;position: relative;}#sk-container-id-1 div.sk-item {position: relative;z-index: 1;}#sk-container-id-1 div.sk-parallel {display: flex;align-items: stretch;justify-content: center;background-color: white;position: relative;}#sk-container-id-1 div.sk-item::before, #sk-container-id-1 div.sk-parallel-item::before {content: \"\";position: absolute;border-left: 1px solid gray;box-sizing: border-box;top: 0;bottom: 0;left: 50%;z-index: -1;}#sk-container-id-1 div.sk-parallel-item {display: flex;flex-direction: column;z-index: 1;position: relative;background-color: white;}#sk-container-id-1 div.sk-parallel-item:first-child::after {align-self: flex-end;width: 50%;}#sk-container-id-1 div.sk-parallel-item:last-child::after {align-self: flex-start;width: 50%;}#sk-container-id-1 div.sk-parallel-item:only-child::after {width: 0;}#sk-container-id-1 div.sk-dashed-wrapped {border: 1px dashed gray;margin: 0 0.4em 0.5em 0.4em;box-sizing: border-box;padding-bottom: 0.4em;background-color: white;}#sk-container-id-1 div.sk-label label {font-family: monospace;font-weight: bold;display: inline-block;line-height: 1.2em;}#sk-container-id-1 div.sk-label-container {text-align: center;}#sk-container-id-1 div.sk-container {/* jupyter's `normalize.less` sets `[hidden] { display: none; }` but bootstrap.min.css set `[hidden] { display: none !important; }` so we also need the `!important` here to be able to override the default hidden behavior on the sphinx rendered scikit-learn.org. See: https://github.com/scikit-learn/scikit-learn/issues/21755 */display: inline-block !important;position: relative;}#sk-container-id-1 div.sk-text-repr-fallback {display: none;}</style><div id=\"sk-container-id-1\" class=\"sk-top-container\"><div class=\"sk-text-repr-fallback\"><pre>GridSearchCV(estimator=RandomForestClassifier(),\n",
              "             param_grid={&#x27;bootstrap&#x27;: [True, False], &#x27;max_features&#x27;: [2, 3, 4],\n",
              "                         &#x27;n_estimators&#x27;: [64, 100, 128, 200],\n",
              "                         &#x27;oob_score&#x27;: [True, False]})</pre><b>In a Jupyter environment, please rerun this cell to show the HTML representation or trust the notebook. <br />On GitHub, the HTML representation is unable to render, please try loading this page with nbviewer.org.</b></div><div class=\"sk-container\" hidden><div class=\"sk-item sk-dashed-wrapped\"><div class=\"sk-label-container\"><div class=\"sk-label sk-toggleable\"><input class=\"sk-toggleable__control sk-hidden--visually\" id=\"sk-estimator-id-1\" type=\"checkbox\" ><label for=\"sk-estimator-id-1\" class=\"sk-toggleable__label sk-toggleable__label-arrow\">GridSearchCV</label><div class=\"sk-toggleable__content\"><pre>GridSearchCV(estimator=RandomForestClassifier(),\n",
              "             param_grid={&#x27;bootstrap&#x27;: [True, False], &#x27;max_features&#x27;: [2, 3, 4],\n",
              "                         &#x27;n_estimators&#x27;: [64, 100, 128, 200],\n",
              "                         &#x27;oob_score&#x27;: [True, False]})</pre></div></div></div><div class=\"sk-parallel\"><div class=\"sk-parallel-item\"><div class=\"sk-item\"><div class=\"sk-label-container\"><div class=\"sk-label sk-toggleable\"><input class=\"sk-toggleable__control sk-hidden--visually\" id=\"sk-estimator-id-2\" type=\"checkbox\" ><label for=\"sk-estimator-id-2\" class=\"sk-toggleable__label sk-toggleable__label-arrow\">estimator: RandomForestClassifier</label><div class=\"sk-toggleable__content\"><pre>RandomForestClassifier()</pre></div></div></div><div class=\"sk-serial\"><div class=\"sk-item\"><div class=\"sk-estimator sk-toggleable\"><input class=\"sk-toggleable__control sk-hidden--visually\" id=\"sk-estimator-id-3\" type=\"checkbox\" ><label for=\"sk-estimator-id-3\" class=\"sk-toggleable__label sk-toggleable__label-arrow\">RandomForestClassifier</label><div class=\"sk-toggleable__content\"><pre>RandomForestClassifier()</pre></div></div></div></div></div></div></div></div></div></div>"
            ],
            "text/plain": [
              "GridSearchCV(estimator=RandomForestClassifier(),\n",
              "             param_grid={'bootstrap': [True, False], 'max_features': [2, 3, 4],\n",
              "                         'n_estimators': [64, 100, 128, 200],\n",
              "                         'oob_score': [True, False]})"
            ]
          },
          "execution_count": 75,
          "metadata": {},
          "output_type": "execute_result"
        }
      ],
      "source": [
        "grid.fit(X_train,y_train)"
      ]
    },
    {
      "cell_type": "code",
      "execution_count": null,
      "metadata": {
        "colab": {
          "base_uri": "https://localhost:8080/"
        },
        "id": "WBcKYVBqfiZ0",
        "outputId": "655ee4c1-8118-479c-90d4-f700ab85b2eb"
      },
      "outputs": [
        {
          "data": {
            "text/plain": [
              "{'bootstrap': True, 'max_features': 4, 'n_estimators': 200, 'oob_score': True}"
            ]
          },
          "execution_count": 76,
          "metadata": {},
          "output_type": "execute_result"
        }
      ],
      "source": [
        "grid.best_params_"
      ]
    },
    {
      "cell_type": "code",
      "execution_count": null,
      "metadata": {
        "id": "TKlFsBV8fmKK"
      },
      "outputs": [],
      "source": [
        "predictions = grid.predict(X_test)"
      ]
    },
    {
      "cell_type": "code",
      "execution_count": null,
      "metadata": {
        "colab": {
          "base_uri": "https://localhost:8080/"
        },
        "id": "VYaONVz3fpKT",
        "outputId": "c3dd3267-a265-4eb3-f2f3-6d69af43cb2a"
      },
      "outputs": [
        {
          "data": {
            "text/plain": [
              "array([3, 0, 3, 3, 0, 1, 3, 1, 2, 2, 3, 0, 0, 0, 4, 3, 3, 0, 0, 1, 1, 1,\n",
              "       3, 3, 0, 0, 2, 2, 3, 1, 1, 3, 0, 2, 0, 3, 3, 3, 3, 3, 2, 0, 2, 3,\n",
              "       3, 3, 0, 3, 4, 3, 3, 3, 3, 2, 0, 4, 3, 3, 3, 4, 0, 1, 3, 0, 2, 3,\n",
              "       2, 3, 3, 3, 0, 3, 0, 1, 3, 0, 0, 3, 3, 3])"
            ]
          },
          "execution_count": 78,
          "metadata": {},
          "output_type": "execute_result"
        }
      ],
      "source": [
        "predictions"
      ]
    },
    {
      "cell_type": "code",
      "execution_count": null,
      "metadata": {
        "colab": {
          "base_uri": "https://localhost:8080/"
        },
        "id": "_ZMzhxpMgEHK",
        "outputId": "6321f376-6a00-49e1-ff47-8f8a264d4072"
      },
      "outputs": [
        {
          "name": "stderr",
          "output_type": "stream",
          "text": [
            "/usr/local/lib/python3.8/dist-packages/sklearn/base.py:420: UserWarning: X does not have valid feature names, but RandomForestClassifier was fitted with feature names\n",
            "  warnings.warn(\n"
          ]
        },
        {
          "data": {
            "text/plain": [
              "array([3])"
            ]
          },
          "execution_count": 80,
          "metadata": {},
          "output_type": "execute_result"
        }
      ],
      "source": [
        "grid.predict([[6.16,0.14\t,1.68\t,29.59\t,536.25\t,6.550,\t18.77\t,61.70\t,2.33\t,6.46]])"
      ]
    },
    {
      "cell_type": "code",
      "execution_count": null,
      "metadata": {
        "colab": {
          "base_uri": "https://localhost:8080/"
        },
        "id": "DLgYEJiYhIiA",
        "outputId": "22374f3a-9e5a-4d4d-9f66-b0d0e1564961"
      },
      "outputs": [
        {
          "name": "stderr",
          "output_type": "stream",
          "text": [
            "/usr/local/lib/python3.8/dist-packages/sklearn/base.py:420: UserWarning: X does not have valid feature names, but RandomForestClassifier was fitted with feature names\n",
            "  warnings.warn(\n"
          ]
        },
        {
          "data": {
            "text/plain": [
              "array([1])"
            ]
          },
          "execution_count": 81,
          "metadata": {},
          "output_type": "execute_result"
        }
      ],
      "source": [
        "grid.predict([[6.20\t,1.13\t,0.55\t,36.74\t,100.28\t,9.357,\t15.28,\t38.06\t,0.99\t,5.82\t]])"
      ]
    },
    {
      "cell_type": "code",
      "execution_count": null,
      "metadata": {
        "id": "7EuuPCW95nD1"
      },
      "outputs": [],
      "source": [
        "import pickle as pkl"
      ]
    },
    {
      "cell_type": "code",
      "execution_count": null,
      "metadata": {
        "id": "aGn_DIn55ojN"
      },
      "outputs": [],
      "source": [
        "with open('ALGO.pickle','wb') as f:\n",
        "  pkl.dump(grid,f)"
      ]
    },
    {
      "cell_type": "code",
      "execution_count": null,
      "metadata": {
        "id": "YTZVWKf_6EMA"
      },
      "outputs": [],
      "source": [
        "with open('ALGO.pickle','rb') as f:\n",
        "  model = pkl.load(f)"
      ]
    },
    {
      "cell_type": "code",
      "execution_count": null,
      "metadata": {
        "colab": {
          "base_uri": "https://localhost:8080/"
        },
        "id": "8RdwD62a6RQ1",
        "outputId": "c7e70900-2a94-4acf-e2bd-bef9ba910f8c"
      },
      "outputs": [
        {
          "name": "stderr",
          "output_type": "stream",
          "text": [
            "/usr/local/lib/python3.8/dist-packages/sklearn/base.py:420: UserWarning: X does not have valid feature names, but RandomForestClassifier was fitted with feature names\n",
            "  warnings.warn(\n"
          ]
        },
        {
          "data": {
            "text/plain": [
              "array([1])"
            ]
          },
          "execution_count": 88,
          "metadata": {},
          "output_type": "execute_result"
        }
      ],
      "source": [
        "model.predict([[6.20\t,1.13\t,0.55\t,36.74\t,100.28\t,9.357,\t15.28,\t38.06\t,0.99\t,5.82\t]])"
      ]
    }
  ],
  "metadata": {
    "colab": {
      "provenance": []
    },
    "kernelspec": {
      "display_name": "Python 3.11.0 64-bit",
      "language": "python",
      "name": "python3"
    },
    "language_info": {
      "codemirror_mode": {
        "name": "ipython",
        "version": 3
      },
      "file_extension": ".py",
      "mimetype": "text/x-python",
      "name": "python",
      "nbconvert_exporter": "python",
      "pygments_lexer": "ipython3",
      "version": "3.11.0"
    },
    "vscode": {
      "interpreter": {
        "hash": "aee8b7b246df8f9039afb4144a1f6fd8d2ca17a180786b69acc140d282b71a49"
      }
    }
  },
  "nbformat": 4,
  "nbformat_minor": 0
}
